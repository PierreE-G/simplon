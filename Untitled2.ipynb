{
 "cells": [
  {
   "cell_type": "markdown",
   "metadata": {},
   "source": [
    "Une possibilité pour représenter un graphe avec Python est d'utiliser un dictionnaire qui, à chaque sommet, associe un sous-dictionnaire composé de ses sommets adjacents associés à la pondération de l'arête incidente "
   ]
  },
  {
   "cell_type": "code",
   "execution_count": 4,
   "metadata": {},
   "outputs": [],
   "source": [
    "Graphe_ = { \n",
    "     'A':{'B':2, 'C':1}, \n",
    "     'B':{'A':2, 'C':2, 'D':1, 'E':3}, \n",
    "     'C':{'A':1, 'B':2, 'D':4, 'E':3, 'F':5}, \n",
    "     'D':{'B':1, 'C':4, 'E':3, 'F':6, 'G':5}, \n",
    "     'E':{'B':3, 'C':3, 'D':3, 'F':1}, \n",
    "     'F':{'C':5, 'D':6, 'E':1, 'G':2}, \n",
    "     'G':{'D':5, 'F':2} }"
   ]
  },
  {
   "cell_type": "markdown",
   "metadata": {},
   "source": [
    "Pseudo code Parcours Largeur"
   ]
  },
  {
   "cell_type": "raw",
   "metadata": {},
   "source": [
    "ParcoursLargeur(Graphe G, Sommet s):\n",
    "       f = CreerFile();\n",
    "       f.enfiler(s);\n",
    "       marquer(s);\n",
    "       tant que la file est non vide\n",
    "                s = f.defiler();\n",
    "                afficher(s);\n",
    "                pour tout voisin t de s dans G\n",
    "                         si t non marqué\n",
    "                                 f.enfiler(t);\n",
    "                                 marquer(t);"
   ]
  },
  {
   "cell_type": "code",
   "execution_count": 9,
   "metadata": {},
   "outputs": [
    {
     "name": "stdout",
     "output_type": "stream",
     "text": [
      "{'A': {'B': 2, 'C': 1}, 'B': {'A': 2, 'C': 2, 'D': 1, 'E': 3}, 'C': {'A': 1, 'B': 2, 'D': 4, 'E': 3, 'F': 5}, 'D': {'B': 1, 'C': 4, 'E': 3, 'F': 6, 'G': 5}, 'E': {'B': 3, 'C': 3, 'D': 3, 'F': 1}, 'F': {'C': 5, 'D': 6, 'E': 1, 'G': 2}, 'G': {'D': 5, 'F': 2}}\n"
     ]
    }
   ],
   "source": [
    "print(Graphe_)"
   ]
  },
  {
   "cell_type": "code",
   "execution_count": 15,
   "metadata": {},
   "outputs": [
    {
     "data": {
      "text/plain": [
       "dict_keys(['A', 'B', 'C', 'D', 'E', 'F', 'G'])"
      ]
     },
     "execution_count": 15,
     "metadata": {},
     "output_type": "execute_result"
    }
   ],
   "source": [
    "Graphe_.keys() # => sommets"
   ]
  },
  {
   "cell_type": "code",
   "execution_count": null,
   "metadata": {},
   "outputs": [],
   "source": [
    "Graphe_."
   ]
  }
 ],
 "metadata": {
  "kernelspec": {
   "display_name": "Python 3",
   "language": "python",
   "name": "python3"
  },
  "language_info": {
   "codemirror_mode": {
    "name": "ipython",
    "version": 3
   },
   "file_extension": ".py",
   "mimetype": "text/x-python",
   "name": "python",
   "nbconvert_exporter": "python",
   "pygments_lexer": "ipython3",
   "version": "3.8.5"
  }
 },
 "nbformat": 4,
 "nbformat_minor": 4
}
