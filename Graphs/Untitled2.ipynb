{
 "cells": [
  {
   "cell_type": "raw",
   "metadata": {},
   "source": [
    "#!/usr/bin/python\n",
    "# -*- coding: utf-8 -*-\n",
    " \n",
    " \n",
    "\"\"\"\n",
    "Quelques fonctions python utiles ici :\n",
    " \n",
    "- on va rentrer un graphe comme un dictionnaire de dictionnaires pour pouvoir pondérer les arêtes:\n",
    "g = {'a': {'b': 4, 'c': 2},\n",
    "     'b': {'a' : 4,'d': 5, 'c': 1},\n",
    "     'c': {'a' : 2, 'b' : 1, 'd' : 8,'e': 10},\n",
    "     'd': {'b': 5, 'c': 8, 'e': 2},\n",
    "     'e': {'c': 10, 'd' : 2, 'f': 3},\n",
    "     'f': {'e' : 3,'d' : 6}}\n",
    " \n",
    "Ainsi, g['a'] est le dictionnaire des voisins avec leurs poids :\n",
    " \n",
    ">>> g['a']\n",
    "{'c': 2, 'b': 4}\n",
    ">>> g['a']['b']\n",
    "4\n",
    ">>> 'c' in g['a']\n",
    "True\n",
    " \n",
    "- pour trouver la clé correspondant à la valeur mini d'un dictionnaire, on utilise une syntaxe très pythonesque. Par exemple, pour avoir le voisin le plus proche de 'a' :\n",
    " \n",
    ">>> min(g['a'], key = g['a'].get)\n",
    "'c'\n",
    " \n",
    "- dict.get(cle,defaut) : retourne la valeur de cle si elle se trouve dans le dictionnaire et defaut sinon ;\n",
    " \n",
    "- float('inf') représente l'infini\n",
    " \n",
    "\"\"\""
   ]
  },
  {
   "cell_type": "code",
   "execution_count": 47,
   "metadata": {},
   "outputs": [],
   "source": [
    "def affiche_peres(pere,depart,extremite,trajet):\n",
    "    \"\"\"\n",
    "    À partir du dictionnaire des pères de chaque sommet on renvoie\n",
    "    la liste des sommets du plus court chemin trouvé. Calcul récursif.\n",
    "    On part de la fin et on remonte vers le départ du chemin.\n",
    "    \n",
    "    \"\"\"\n",
    "    if extremite == depart:\n",
    "        return [depart] + trajet\n",
    "    else:\n",
    "        print('****   ',pere, depart, pere[extremite], [extremite] + trajet)\n",
    "        return (affiche_peres(pere, depart, pere[extremite], [extremite] + trajet))\n",
    " \n",
    "def plus_court(graphe,etape,fin,visites,dist,pere,depart):\n",
    "    \"\"\"\n",
    "    Trouve récursivement la plus courte chaine entre debut et fin avec l'algo de Dijkstra\n",
    "    visites est une liste et dist et pere des dictionnaires \n",
    "    graphe  : le graphe étudié                                                               (dictionnaire)\n",
    "    étape   : le sommet en cours d'étude                                                     (sommet)\n",
    "    fin     : but du trajet                                                                  (sommet)\n",
    "    visites : liste des sommets déjà visités                                                 (liste de sommets)\n",
    "    dist    : dictionnaire meilleure distance actuelle entre départ et les sommets du graphe (dict sommet : int)\n",
    "    pere    : dictionnaire des pères actuels des sommets correspondant aux meilleurs chemins (dict sommet : sommet)\n",
    "    depart  : sommet global de départ                                                        (sommet)\n",
    "    Retourne le couple (longueur mini (int), trajet correspondant (liste sommets)) \n",
    "       \n",
    "    \"\"\"\n",
    "    # si on arrive à la fin, on affiche la distance et les peres\n",
    "    if etape == fin:\n",
    "       return dist[fin], affiche_peres(pere,depart,fin,[])\n",
    "    # si c'est la première visite, c'est que l'étape actuelle est le départ : on met dist[etape] à 0\n",
    "    if  len(visites) == 0 : dist[etape]=0\n",
    "    # on commence à tester les voisins non visités\n",
    "    for voisin in graphe[etape]:\n",
    "        if voisin not in visites:\n",
    "            # la distance est soit la distance calculée précédemment soit l'infini\n",
    "            dist_voisin = dist.get(voisin,float('inf'))\n",
    "            # on calcule la nouvelle distance calculée en passant par l'étape\n",
    "            candidat_dist = dist[etape] + graphe[etape][voisin]\n",
    "            # on effectue les changements si cela donne un chemin plus court\n",
    "            if candidat_dist < dist_voisin:\n",
    "                dist[voisin] = candidat_dist\n",
    "                pere[voisin] = etape\n",
    "    # on a regardé tous les voisins : le noeud entier est visité\n",
    "    visites.append(etape)\n",
    "    # on cherche le sommet *non visité* le plus proche du départ\n",
    "    non_visites = dict((s, dist.get(s,float('inf'))) for s in graphe if s not in visites)\n",
    "    noeud_plus_proche = min(non_visites, key = non_visites.get)\n",
    "    ##*******************************************?????\n",
    "    #print ('Nproche: ',noeud_plus_proche)\n",
    "    #print('non visite:',non_visites)\n",
    "    #print('non visite:',non_visites.get)\n",
    "\n",
    "    # on applique récursivement en prenant comme nouvelle étape le sommet le plus proche\n",
    "    print(graphe,noeud_plus_proche,fin,visites,dist,pere,depart)\n",
    "    return plus_court(graphe,noeud_plus_proche,fin,visites,dist,pere,depart)\n",
    " \n",
    "def dij_rec(graphe,debut,fin):\n",
    "    return plus_court(graphe,debut,fin,[],{},{},debut)\n",
    " "
   ]
  },
  {
   "cell_type": "code",
   "execution_count": 48,
   "metadata": {},
   "outputs": [],
   "source": [
    "Graphe_ = { \n",
    "     'A':{'B':2, 'C':1}, \n",
    "     'B':{'A':2, 'C':2, 'D':1, 'E':3}, \n",
    "     'C':{'A':1, 'B':2, 'D':4, 'E':3, 'F':5}, \n",
    "     'D':{'B':1, 'C':4, 'E':3, 'F':6, 'G':5}, \n",
    "     'E':{'B':3, 'C':3, 'D':3, 'F':1}, \n",
    "     'F':{'C':5, 'D':6, 'E':1, 'G':2}, \n",
    "     'G':{'D':5, 'F':2} }"
   ]
  },
  {
   "cell_type": "code",
   "execution_count": 49,
   "metadata": {},
   "outputs": [
    {
     "name": "stdout",
     "output_type": "stream",
     "text": [
      "{'A': {'B': 2, 'C': 1}, 'B': {'A': 2, 'C': 2, 'D': 1, 'E': 3}, 'C': {'A': 1, 'B': 2, 'D': 4, 'E': 3, 'F': 5}, 'D': {'B': 1, 'C': 4, 'E': 3, 'F': 6, 'G': 5}, 'E': {'B': 3, 'C': 3, 'D': 3, 'F': 1}, 'F': {'C': 5, 'D': 6, 'E': 1, 'G': 2}, 'G': {'D': 5, 'F': 2}} C G ['A'] {'A': 0, 'B': 2, 'C': 1} {'B': 'A', 'C': 'A'} A\n",
      "{'A': {'B': 2, 'C': 1}, 'B': {'A': 2, 'C': 2, 'D': 1, 'E': 3}, 'C': {'A': 1, 'B': 2, 'D': 4, 'E': 3, 'F': 5}, 'D': {'B': 1, 'C': 4, 'E': 3, 'F': 6, 'G': 5}, 'E': {'B': 3, 'C': 3, 'D': 3, 'F': 1}, 'F': {'C': 5, 'D': 6, 'E': 1, 'G': 2}, 'G': {'D': 5, 'F': 2}} B G ['A', 'C'] {'A': 0, 'B': 2, 'C': 1, 'D': 5, 'E': 4, 'F': 6} {'B': 'A', 'C': 'A', 'D': 'C', 'E': 'C', 'F': 'C'} A\n",
      "{'A': {'B': 2, 'C': 1}, 'B': {'A': 2, 'C': 2, 'D': 1, 'E': 3}, 'C': {'A': 1, 'B': 2, 'D': 4, 'E': 3, 'F': 5}, 'D': {'B': 1, 'C': 4, 'E': 3, 'F': 6, 'G': 5}, 'E': {'B': 3, 'C': 3, 'D': 3, 'F': 1}, 'F': {'C': 5, 'D': 6, 'E': 1, 'G': 2}, 'G': {'D': 5, 'F': 2}} D G ['A', 'C', 'B'] {'A': 0, 'B': 2, 'C': 1, 'D': 3, 'E': 4, 'F': 6} {'B': 'A', 'C': 'A', 'D': 'B', 'E': 'C', 'F': 'C'} A\n",
      "{'A': {'B': 2, 'C': 1}, 'B': {'A': 2, 'C': 2, 'D': 1, 'E': 3}, 'C': {'A': 1, 'B': 2, 'D': 4, 'E': 3, 'F': 5}, 'D': {'B': 1, 'C': 4, 'E': 3, 'F': 6, 'G': 5}, 'E': {'B': 3, 'C': 3, 'D': 3, 'F': 1}, 'F': {'C': 5, 'D': 6, 'E': 1, 'G': 2}, 'G': {'D': 5, 'F': 2}} E G ['A', 'C', 'B', 'D'] {'A': 0, 'B': 2, 'C': 1, 'D': 3, 'E': 4, 'F': 6, 'G': 8} {'B': 'A', 'C': 'A', 'D': 'B', 'E': 'C', 'F': 'C', 'G': 'D'} A\n",
      "{'A': {'B': 2, 'C': 1}, 'B': {'A': 2, 'C': 2, 'D': 1, 'E': 3}, 'C': {'A': 1, 'B': 2, 'D': 4, 'E': 3, 'F': 5}, 'D': {'B': 1, 'C': 4, 'E': 3, 'F': 6, 'G': 5}, 'E': {'B': 3, 'C': 3, 'D': 3, 'F': 1}, 'F': {'C': 5, 'D': 6, 'E': 1, 'G': 2}, 'G': {'D': 5, 'F': 2}} F G ['A', 'C', 'B', 'D', 'E'] {'A': 0, 'B': 2, 'C': 1, 'D': 3, 'E': 4, 'F': 5, 'G': 8} {'B': 'A', 'C': 'A', 'D': 'B', 'E': 'C', 'F': 'E', 'G': 'D'} A\n",
      "{'A': {'B': 2, 'C': 1}, 'B': {'A': 2, 'C': 2, 'D': 1, 'E': 3}, 'C': {'A': 1, 'B': 2, 'D': 4, 'E': 3, 'F': 5}, 'D': {'B': 1, 'C': 4, 'E': 3, 'F': 6, 'G': 5}, 'E': {'B': 3, 'C': 3, 'D': 3, 'F': 1}, 'F': {'C': 5, 'D': 6, 'E': 1, 'G': 2}, 'G': {'D': 5, 'F': 2}} G G ['A', 'C', 'B', 'D', 'E', 'F'] {'A': 0, 'B': 2, 'C': 1, 'D': 3, 'E': 4, 'F': 5, 'G': 7} {'B': 'A', 'C': 'A', 'D': 'B', 'E': 'C', 'F': 'E', 'G': 'F'} A\n",
      "****    {'B': 'A', 'C': 'A', 'D': 'B', 'E': 'C', 'F': 'E', 'G': 'F'} A F ['G']\n",
      "****    {'B': 'A', 'C': 'A', 'D': 'B', 'E': 'C', 'F': 'E', 'G': 'F'} A E ['F', 'G']\n",
      "****    {'B': 'A', 'C': 'A', 'D': 'B', 'E': 'C', 'F': 'E', 'G': 'F'} A C ['E', 'F', 'G']\n",
      "****    {'B': 'A', 'C': 'A', 'D': 'B', 'E': 'C', 'F': 'E', 'G': 'F'} A A ['C', 'E', 'F', 'G']\n",
      "Plus court chemin Graphe_ :  ['A', 'C', 'E', 'F', 'G']  de longueur : 7\n"
     ]
    }
   ],
   "source": [
    "    lGraphe_4,cGraphe_c4 = dij_rec(Graphe_,'A','G')\n",
    "    print ('Plus court chemin Graphe_ : ',cGraphe_c4, ' de longueur :',lGraphe_4)\n",
    "    #print(dij_rec(Graphe_,'A','E'))"
   ]
  },
  {
   "cell_type": "markdown",
   "metadata": {},
   "source": []
  },
  {
   "cell_type": "code",
   "execution_count": null,
   "metadata": {},
   "outputs": [],
   "source": []
  }
 ],
 "metadata": {
  "kernelspec": {
   "display_name": "Python 3",
   "language": "python",
   "name": "python3"
  },
  "language_info": {
   "codemirror_mode": {
    "name": "ipython",
    "version": 3
   },
   "file_extension": ".py",
   "mimetype": "text/x-python",
   "name": "python",
   "nbconvert_exporter": "python",
   "pygments_lexer": "ipython3",
   "version": "3.8.5"
  }
 },
 "nbformat": 4,
 "nbformat_minor": 4
}
