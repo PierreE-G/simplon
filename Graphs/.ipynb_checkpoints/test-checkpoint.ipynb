{
 "cells": [
  {
   "cell_type": "code",
   "execution_count": 7,
   "metadata": {},
   "outputs": [],
   "source": [
    "import networkx as nx\n",
    "import matplotlib.pyplot as plt"
   ]
  },
  {
   "cell_type": "code",
   "execution_count": 1,
   "metadata": {},
   "outputs": [
    {
     "name": "stdout",
     "output_type": "stream",
     "text": [
      "{'b': None, 'a': 'b', 'd': 'b', 'e': 'b', 'c': 'a', 'f': 'e', 'g': 'e', 'h': 'g'}\n"
     ]
    }
   ],
   "source": [
    "class Maillon:\n",
    "\n",
    "\tdef __init__(self, valeur, precedent=None, suivant=None):\n",
    "\t\tself.valeur = valeur\n",
    "\t\tself.precedent = precedent\n",
    "\t\tself.suivant = suivant\n",
    "\n",
    "\n",
    "class File:\n",
    "\n",
    "\tdef __init__(self):\n",
    "\t\tself.longueur = 0\n",
    "\t\tself.debut = None\n",
    "\t\tself.fin = None\n",
    "\n",
    "\tdef enfiler(self, valeur):\n",
    "\t\tif self.longueur == 0:\n",
    "\t\t\tself.debut = self.fin = Maillon(valeur)\n",
    "\t\telse:\n",
    "\t\t\tself.fin = Maillon(valeur, self.fin)\n",
    "\t\t\tself.fin.precedent.suivant = self.fin\n",
    "\t\tself.longueur += 1\n",
    "\n",
    "\n",
    "\tdef defiler(self):\n",
    "\t\tif self.longueur > 0:\n",
    "\t\t\tvaleur = self.debut.valeur\n",
    "\t\t\tif self.longueur > 1:\n",
    "\t\t\t\tself.debut = self.debut.suivant\n",
    "\t\t\t\tself.debut.precedent = None\n",
    "\t\t\telse:\n",
    "\t\t\t\tself.debut = self.fin = None\n",
    "\t\t\tself.longueur -= 1\n",
    "\t\treturn valeur\n",
    "\n",
    "\n",
    "\tdef estVide(self):\n",
    "\t\treturn self.longueur == 0\n",
    "\n",
    "\n",
    "\n",
    "\n",
    "\n",
    "\n",
    "def bfs(G,s) :\n",
    "\tP = {s :None}\n",
    "\tQ = File()\n",
    "\tQ.enfiler(s)\n",
    "\twhile not(Q.estVide()) :\n",
    "\t\tu = Q.defiler()\n",
    "\t\tfor v in G[u] :\n",
    "\t\t\tif v in P : continue\n",
    "\t\t\tP[v]=u\n",
    "\t\t\tQ.enfiler(v)\n",
    "\treturn P\n",
    "\n",
    "\n",
    "\n",
    "G = dict()\n",
    "G['a'] = ['b','c']\n",
    "G['b'] = ['a','d','e']\n",
    "G['c'] = ['a','d']\n",
    "G['d'] = ['b','c','e']\n",
    "G['e'] = ['b','d','f','g']\n",
    "G['f'] = ['e','g']\n",
    "G['g'] = ['e','f','h']\n",
    "G['h'] = ['g']\n",
    "\n",
    "\n",
    "P = bfs(G,'b')\n",
    "print(P)"
   ]
  },
  {
   "cell_type": "code",
   "execution_count": 2,
   "metadata": {},
   "outputs": [],
   "source": [
    "Graphe_ = { \n",
    "     'A':{'B':2, 'C':1}, \n",
    "     'B':{'A':2, 'C':2, 'D':1, 'E':3}, \n",
    "     'C':{'A':1, 'B':2, 'D':4, 'E':3, 'F':5}, \n",
    "     'D':{'B':1, 'C':4, 'E':3, 'F':6, 'G':5}, \n",
    "     'E':{'B':3, 'C':3, 'D':3, 'F':1}, \n",
    "     'F':{'C':5, 'D':6, 'E':1, 'G':2}, \n",
    "     'G':{'D':5, 'F':2} }"
   ]
  },
  {
   "cell_type": "code",
   "execution_count": 27,
   "metadata": {},
   "outputs": [
    {
     "data": {
      "image/png": "[encoded data removed]",
      "text/plain": [
       "<Figure size 432x288 with 1 Axes>"
      ]
     },
     "metadata": {},
     "output_type": "display_data"
    }
   ],
   "source": [
    "X = nx.Graph(Graphe_)\n",
    "#plt.figure(figsize=(10,10))\n",
    "nx.draw(X,with_labels=True)\n",
    "#plt.show(X)"
   ]
  },
  {
   "cell_type": "code",
   "execution_count": 3,
   "metadata": {},
   "outputs": [
    {
     "name": "stdout",
     "output_type": "stream",
     "text": [
      "{'A': None, 'B': 'A', 'C': 'A', 'D': 'B', 'E': 'B', 'F': 'C', 'G': 'D'}\n"
     ]
    }
   ],
   "source": [
    "P = bfs(Graphe_,'A')\n",
    "print(P)"
   ]
  },
  {
   "cell_type": "code",
   "execution_count": 28,
   "metadata": {},
   "outputs": [
    {
     "name": "stdout",
     "output_type": "stream",
     "text": [
      "['A', 'C', 'F']\n"
     ]
    }
   ],
   "source": [
    "print(nx.shortest_path(X, 'A', 'F'))\n"
   ]
  },
  {
   "cell_type": "code",
   "execution_count": null,
   "metadata": {},
   "outputs": [],
   "source": []
  }
 ],
 "metadata": {
  "kernelspec": {
   "display_name": "Python 3",
   "language": "python",
   "name": "python3"
  },
  "language_info": {
   "codemirror_mode": {
    "name": "ipython",
    "version": 3
   },
   "file_extension": ".py",
   "mimetype": "text/x-python",
   "name": "python",
   "nbconvert_exporter": "python",
   "pygments_lexer": "ipython3",
   "version": "3.8.5"
  }
 },
 "nbformat": 4,
 "nbformat_minor": 4
}
