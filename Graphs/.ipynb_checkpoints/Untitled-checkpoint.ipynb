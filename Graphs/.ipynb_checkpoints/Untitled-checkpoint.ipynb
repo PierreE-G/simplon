{
 "cells": [
  {
   "cell_type": "code",
   "execution_count": 2,
   "metadata": {},
   "outputs": [],
   "source": [
    "Graphe_ = { \n",
    "     'A':{'B':2, 'C':1}, \n",
    "     'B':{'A':2, 'C':2, 'D':1, 'E':3}, \n",
    "     'C':{'A':1, 'B':2, 'D':4, 'E':3, 'F':5}, \n",
    "     'D':{'B':1, 'C':4, 'E':3, 'F':6, 'G':5}, \n",
    "     'E':{'B':3, 'C':3, 'D':3, 'F':1}, \n",
    "     'F':{'C':5, 'D':6, 'E':1, 'G':2}, \n",
    "     'G':{'D':5, 'F':2} }"
   ]
  },
  {
   "cell_type": "code",
   "execution_count": 3,
   "metadata": {},
   "outputs": [],
   "source": [
    "class Graph():\n",
    "    def init(self, Graphe):\n",
    "                 self.Graph = Graphe\n",
    "\n",
    "    # imprimer un graphe\n",
    "    def printGraph(self):\n",
    "        for s in self.Graph.keys():\n",
    "            print (s , \":\", self.Graph[s] )\n",
    "\n",
    "    # parcours en profondeur\n",
    "    def dfs_rec(self,s,s_explore = []):\n",
    "        print(s_explore)\n",
    "\n",
    "        # 1eme :  explorer le sommet 's' \n",
    "        if s not in s_explore:\n",
    "            s_explore.append(s)\n",
    "            print(s)\n",
    "\n",
    "        #2eme : explorer ses voisins\n",
    "        for voisin in self.Graph[s]:\n",
    "            if voisin not in s_explore:\n",
    "                # 3 : explorer les fils\n",
    "                self.dfs_rec(voisin,s_explore)\n",
    "                print(\"back : \", voisin) #garder une trace des retours en arrières,\n",
    "\n",
    "\n",
    "    def shortestPath(self, a, b):\n",
    "        # return [..]\n",
    "        pass"
   ]
  },
  {
   "cell_type": "code",
   "execution_count": null,
   "metadata": {},
   "outputs": [],
   "source": []
  }
 ],
 "metadata": {
  "kernelspec": {
   "display_name": "Python 3",
   "language": "python",
   "name": "python3"
  },
  "language_info": {
   "codemirror_mode": {
    "name": "ipython",
    "version": 3
   },
   "file_extension": ".py",
   "mimetype": "text/x-python",
   "name": "python",
   "nbconvert_exporter": "python",
   "pygments_lexer": "ipython3",
   "version": "3.8.5"
  }
 },
 "nbformat": 4,
 "nbformat_minor": 4
}
