{
 "cells": [
  {
   "cell_type": "code",
   "execution_count": 5,
   "metadata": {},
   "outputs": [],
   "source": [
    "import random\n",
    "import matplotlib.pyplot as plt\n",
    "import sys\n",
    "from collections import defaultdict\n",
    "\n",
    "import networkx as nx\n",
    "import matplotlib.pyplot as plt"
   ]
  },
  {
   "cell_type": "code",
   "execution_count": 70,
   "metadata": {},
   "outputs": [
    {
     "name": "stdout",
     "output_type": "stream",
     "text": [
      " ┌─────┐\n",
      " ├─╴ ╷ │\n",
      " │ ╷ └─┤\n",
      " └─┴───┘\n",
      "\n",
      "coordonnées=    [[{'N': False, 'E': True, 'S': False, 'W': False, 'zone': 6, 'num_cell': 0}, {'N': False, 'E': True, 'S': True, 'W': True, 'zone': 6, 'num_cell': 1}, {'N': False, 'E': False, 'S': True, 'W': True, 'zone': 6, 'num_cell': 2}], [{'N': False, 'E': True, 'S': True, 'W': False, 'zone': 6, 'num_cell': 3}, {'N': True, 'E': False, 'S': True, 'W': True, 'zone': 6, 'num_cell': 4}, {'N': True, 'E': False, 'S': False, 'W': False, 'zone': 6, 'num_cell': 5}], [{'N': True, 'E': False, 'S': False, 'W': False, 'zone': 6, 'num_cell': 6}, {'N': True, 'E': True, 'S': False, 'W': False, 'zone': 6, 'num_cell': 7}, {'N': False, 'E': False, 'S': False, 'W': True, 'zone': 6, 'num_cell': 8}]]\n"
     ]
    },
    {
     "data": {
      "image/png": "[encoded data removed]",
      "text/plain": [
       "<Figure size 432x288 with 1 Axes>"
      ]
     },
     "metadata": {
      "needs_background": "light"
     },
     "output_type": "display_data"
    }
   ],
   "source": [
    "class Labyrinthe_02:\n",
    "    def __init__(self, width, height):\n",
    "        self.width=width\n",
    "        self.height=height\n",
    "        self.cells=[]\n",
    "        zone=0\n",
    "        num_cell=0\n",
    "        self.graph0=defaultdict(list)\n",
    "        #self.graph = defaultdict(lambda: defaultdict(int))\n",
    "        \n",
    "        #construction des cellules fermées et de la liste des zones initiales\n",
    "        #origine en haut à gauche\n",
    "        for i in range(height):\n",
    "            self.cells.append([])\n",
    "            for j in range(width):\n",
    "                #chaque cell est entièrement fermée\n",
    "                #False = on passe pas = mur fermé ; True = on peut passer = mur ouvert\n",
    "                self.cells[i].append({'N':False, 'E':False, 'S':False, 'W':False, 'zone':zone, 'num_cell': num_cell})#chaque zone est unique au départ zone=i*width+j\n",
    "                zone+=1\n",
    "                num_cell+=1\n",
    "        self.n_zones=width*height\n",
    "        self.generer()\n",
    "\n",
    "\n",
    "    def fusionner(self, i1, j1, dir):\n",
    "        #i2,j2 et dir2 sont associés à la case de la direction opposée\n",
    "        if dir=='N':\n",
    "            i2=i1-1;j2=j1;dir2='S'\n",
    "        elif dir=='S':\n",
    "            i2=i1+1;j2=j1;dir2='N'\n",
    "        elif dir=='W':\n",
    "            i2=i1;j2=j1-1;dir2='E'\n",
    "        elif dir=='E':\n",
    "            i2=i1;j2=j1+1;dir2='W'\n",
    "\n",
    "        if(i2>=0 and i2<self.height and j2>=0 and j2<self.width):\n",
    "            zone1=self.cells[i1][j1]['zone']\n",
    "            zone2=self.cells[i2][j2]['zone']\n",
    "            if zone1!=zone2:\n",
    "                self.cells[i1][j1][dir]=True\n",
    "                self.cells[i2][j2][dir2]=True\n",
    "                self.graph0[str(self.cells[i1][j1]['num_cell'])].append(str(self.cells[i2][j2]['num_cell']))\n",
    "                self.graph0[str(self.cells[i2][j2]['num_cell'])].append(str(self.cells[i1][j1]['num_cell']))\n",
    "                #print(self.graph0)\n",
    "                #fusion des zones :\n",
    "                for i in range(self.height):\n",
    "                    for j in range(self.width):\n",
    "                        if self.cells[i][j]['zone']==zone2:\n",
    "                            self.cells[i][j]['zone']=zone1\n",
    "                self.n_zones-=1;#permettra de s'arrêter sans vider toute la pile\n",
    "                return zone1,  self.graph0\n",
    "        return False\n",
    "        \n",
    "\n",
    "\n",
    "    def generer(self):\n",
    "        #cells à traiter\n",
    "        \n",
    "        pile_cells=[]\n",
    "        for dir in ['N', 'E', 'S', 'W']:\n",
    "            for i in range(self.height):\n",
    "                for j in range(self.width):\n",
    "                    pile_cells.append((i,j,dir))\n",
    "        random.shuffle(pile_cells)\n",
    "        while(len(pile_cells)>0 and self.n_zones>1):\n",
    "            (i,j,dir)=pile_cells.pop()\n",
    "            self.fusionner(i,j,dir)\n",
    "            #décommenter ci-dessous pour visualiser les étapes :\n",
    "            #self.print(True)\n",
    "        return self.cells\n",
    "    \n",
    " #******************************Print plot**************************************************************   \n",
    "    def print_plot(self):\n",
    "        print('coordonnées=   ',self.cells)\n",
    "        for i in range(self.height):\n",
    "            y=self.height - i\n",
    "            color=\"b\"\n",
    "            for j in range(self.width):\n",
    "                x=j\n",
    "                for dir in ['N', 'E', 'S', 'W' ]:\n",
    "                    if not self.cells[i][j]['N']:\n",
    "                        plt.plot([x,x+1], [y+1,y+1], color)\n",
    "                    if not self.cells[i][j]['E']:\n",
    "                        plt.plot([x+1,x+1], [y,y+1],color)\n",
    "                    if not self.cells[i][j]['S']:\n",
    "                        plt.plot([x,x+1], [y,y],color)\n",
    "                    if not  self.cells[i][j]['W']:\n",
    "                        #print(\"plot gauche\")\n",
    "                        plt.plot([x,x], [y,y+1],color)\n",
    "        plt.show()\n",
    "#**************************************************************************************************************\n",
    "\n",
    "    #labels peut prendre 3 formes :\n",
    "    #True : imprime les zones de la méthode générer\n",
    "    #tableau T de taille height par width où T[i][j] est la valeur affichée dans la cellule (i,j)\n",
    "    def print(self, labels=False):\n",
    "        from math import floor\n",
    "        #alias :\n",
    "        w=self.width;h=self.height;c=self.cells;\n",
    "        #si on imprime les labels, il faut élargir la taille des couloirs\n",
    "        if(labels==True):\n",
    "            labels=[ [ c[i][j]['zone'] for i in range(h) ] for j in range(w) ]\n",
    "\n",
    "        if(labels):\n",
    "            len_lbl=max([ max([ len(str(labels[i][j])) for i in range(h) ]) for j in range(w) ])+1\n",
    "        inters=[' ','╴','╷', '┐','╶','─','┌','┬','╵','┘','│','┤','└','┴','├','┼']\n",
    "        t=\"\"\n",
    "        #la grille des intersections de cases est de taille (N+1)(M+1)\n",
    "        for i in range(h+1):\n",
    "            interligne=\"\"\n",
    "            for j in range(w+1):\n",
    "                #up, right, bottom, left : les 4 parties de la croix \"┼\" #False = mur, True = pas mur\n",
    "                #Coins et bords:\n",
    "                up=False if i==0 else None\n",
    "                left=False if j==0 else None\n",
    "                right=False if j==w else None\n",
    "                bottom=False if i==h else None\n",
    "                if j==w:\n",
    "                    if up==None:up=not c[i-1][j-1]['E']\n",
    "                    if bottom==None:bottom=not c[i][j-1]['E']\n",
    "                if i==h:\n",
    "                    bottom=False\n",
    "                    if right==None:right=not c[i-1][j]['S']\n",
    "                    if left==None:left=not c[i-1][j-1]['S']\n",
    "                #intérieur :\n",
    "                if up==None:up=not c[i-1][j]['W']\n",
    "                if right==None:right=not c[i][j]['N']\n",
    "                if bottom==None:bottom=not c[i][j]['W']\n",
    "                if left==None:left=not c[i][j-1]['N']\n",
    "                #-> mot binaire à 4 bits. 16 cas qu'on a mis dans l'ordre dans la liste inters\n",
    "                #indice inters\n",
    "                k=-up*8+right*4+bottom*2+left\n",
    "                if not labels:\n",
    "                    #espacement horizontal supplémentaire\n",
    "                    sep= \"─\" if left else \" \"\n",
    "                    t+=sep+inters[k]\n",
    "                    if j==self.width:t+=\"\\n\"\n",
    "                else:\n",
    "                    sep= (len_lbl+2)*\"─\" if right else (len_lbl+2)*\" \"\n",
    "\n",
    "\n",
    "                    lbl=labels[i][j] if i<self.height and j<self.width else \"\"\n",
    "\n",
    "                    len_sp_left=floor((len_lbl - len(str(lbl)))/2)\n",
    "                    len_sp_right=len_lbl-len(str(lbl))-len_sp_left\n",
    "                    txt_lbl=str(lbl)\n",
    "                    interligne+=(\"│\" if bottom else \" \")+\" \"*(len_sp_left+1)+txt_lbl+\" \"*(len_sp_right+1)\n",
    "                    t+=inters[k]+sep\n",
    "                    if j==self.width:\n",
    "                        t+=\"\\n\" + interligne + \"\\n\"\n",
    "        print(t)\n",
    "\n",
    "n=3\n",
    "laby = Labyrinthe_02(n,n)\n",
    "laby.print()\n",
    "#laby.print(True)\n",
    "laby.print_plot()\n"
   ]
  },
  {
   "cell_type": "code",
   "execution_count": 71,
   "metadata": {},
   "outputs": [
    {
     "name": "stdout",
     "output_type": "stream",
     "text": [
      "defaultdict(<class 'list'>, {'2': ['1', '5'], '1': ['2', '4', '0'], '5': ['2'], '4': ['1', '7', '3'], '7': ['4', '8'], '3': ['4', '6'], '6': ['3'], '8': ['7'], '0': ['1']})\n"
     ]
    }
   ],
   "source": [
    "G0=laby.graph0\n",
    "print(G0)"
   ]
  },
  {
   "cell_type": "code",
   "execution_count": 96,
   "metadata": {},
   "outputs": [
    {
     "name": "stdout",
     "output_type": "stream",
     "text": [
      "{'2': {'1': 1, '5': 1}, '1': {'2': 1, '4': 1, '0': 1}, '5': {'2': 1}, '4': {'1': 1, '7': 1, '3': 1}, '7': {'4': 1, '8': 1}, '3': {'4': 1, '6': 1}, '6': {'3': 1}, '8': {'7': 1}, '0': {'1': 1}}\n"
     ]
    }
   ],
   "source": [
    "# Programme pour dictionnaires imbriqués\n",
    "G1={}\n",
    "#print()\n",
    "for i, j in G0.items():\n",
    "    dic_t={}\n",
    "    for k in j:\n",
    "        dic_t[k]=1\n",
    "    G1[i]=dic_t\n",
    "print(G1)"
   ]
  },
  {
   "cell_type": "code",
   "execution_count": 97,
   "metadata": {},
   "outputs": [
    {
     "data": {
      "image/png": "[encoded data removed]",
      "text/plain": [
       "<Figure size 360x360 with 1 Axes>"
      ]
     },
     "metadata": {},
     "output_type": "display_data"
    }
   ],
   "source": [
    "X = nx.Graph(G1)\n",
    "plt.figure(figsize=(5,5))\n",
    "nx.draw(X,with_labels=True)\n",
    "#plt.show(X)"
   ]
  },
  {
   "cell_type": "code",
   "execution_count": 98,
   "metadata": {},
   "outputs": [
    {
     "name": "stdout",
     "output_type": "stream",
     "text": [
      "['0', '1', '4', '3', '6']\n"
     ]
    }
   ],
   "source": [
    "sol = nx.shortest_path(X, '0', '6')\n",
    "print(nx.shortest_path(X, '0', '6'))"
   ]
  },
  {
   "cell_type": "code",
   "execution_count": 100,
   "metadata": {},
   "outputs": [
    {
     "name": "stdout",
     "output_type": "stream",
     "text": [
      "[0] [0]\n",
      "[0] [1]\n",
      "[1] [1]\n",
      "[1] [0]\n",
      "[2] [0]\n"
     ]
    }
   ],
   "source": [
    "for i in sol:\n",
    "    X, Y = [], []\n",
    "    X.append(int(i)//n)                   ## division entière pour le X\n",
    "    Y.append(int(i)%n)                    ## reste pour le Y\n",
    "    print(X,Y) \n",
    "    #print(int(i)%n)  ## reste pour le Y\n"
   ]
  },
  {
   "cell_type": "code",
   "execution_count": 89,
   "metadata": {},
   "outputs": [
    {
     "data": {
      "text/plain": [
       "1"
      ]
     },
     "execution_count": 89,
     "metadata": {},
     "output_type": "execute_result"
    }
   ],
   "source": [
    "3//n"
   ]
  },
  {
   "cell_type": "code",
   "execution_count": 46,
   "metadata": {},
   "outputs": [
    {
     "data": {
      "text/plain": [
       "[<matplotlib.lines.Line2D at 0x7f1940159040>]"
      ]
     },
     "execution_count": 46,
     "metadata": {},
     "output_type": "execute_result"
    },
    {
     "data": {
      "image/png": "[encoded data removed]",
      "text/plain": [
       "<Figure size 432x288 with 1 Axes>"
      ]
     },
     "metadata": {
      "needs_background": "light"
     },
     "output_type": "display_data"
    }
   ],
   "source": [
    "plt.plot([0, 1],'r', linewidth=2)"
   ]
  },
  {
   "cell_type": "code",
   "execution_count": null,
   "metadata": {},
   "outputs": [],
   "source": []
  }
 ],
 "metadata": {
  "kernelspec": {
   "display_name": "Python 3",
   "language": "python",
   "name": "python3"
  },
  "language_info": {
   "codemirror_mode": {
    "name": "ipython",
    "version": 3
   },
   "file_extension": ".py",
   "mimetype": "text/x-python",
   "name": "python",
   "nbconvert_exporter": "python",
   "pygments_lexer": "ipython3",
   "version": "3.8.5"
  }
 },
 "nbformat": 4,
 "nbformat_minor": 4
}
