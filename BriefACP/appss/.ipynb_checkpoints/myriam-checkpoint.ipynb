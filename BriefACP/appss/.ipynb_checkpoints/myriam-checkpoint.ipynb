{
 "cells": [
  {
   "cell_type": "markdown",
   "metadata": {},
   "source": [
    "# Analyse en Composantes Principales"
   ]
  },
  {
   "cell_type": "code",
   "execution_count": null,
   "metadata": {},
   "outputs": [],
   "source": []
  },
  {
   "cell_type": "code",
   "execution_count": 7,
   "metadata": {},
   "outputs": [
    {
     "name": "stdout",
     "output_type": "stream",
     "text": [
      "<class 'pandas.core.frame.DataFrame'>\n",
      "RangeIndex: 2603 entries, 0 to 2602\n",
      "Data columns (total 14 columns):\n",
      " #   Column                  Non-Null Count  Dtype  \n",
      "---  ------                  --------------  -----  \n",
      " 0   world_rank              2603 non-null   object \n",
      " 1   university_name         2603 non-null   object \n",
      " 2   country                 2603 non-null   object \n",
      " 3   teaching                2603 non-null   float64\n",
      " 4   international           2603 non-null   object \n",
      " 5   research                2603 non-null   float64\n",
      " 6   citations               2603 non-null   float64\n",
      " 7   income                  2603 non-null   object \n",
      " 8   total_score             2603 non-null   object \n",
      " 9   num_students            2544 non-null   object \n",
      " 10  student_staff_ratio     2544 non-null   float64\n",
      " 11  international_students  2536 non-null   object \n",
      " 12  female_male_ratio       2370 non-null   object \n",
      " 13  year                    2603 non-null   int64  \n",
      "dtypes: float64(4), int64(1), object(9)\n",
      "memory usage: 284.8+ KB\n"
     ]
    }
   ],
   "source": [
    "import pandas as pd\n",
    "import numpy as np\n",
    "from sklearn import decomposition\n",
    "from sklearn import preprocessing\n",
    "from functions import *\n",
    "\n",
    "# choix du nombre de composantes à calculer\n",
    "#n_comp = 2\n",
    "\n",
    "# import de l'échantillon\n",
    "data = pd.read_csv(\"timesData.csv\")\n",
    "data.info()"
   ]
  },
  {
   "cell_type": "code",
   "execution_count": 8,
   "metadata": {},
   "outputs": [
    {
     "name": "stdout",
     "output_type": "stream",
     "text": [
      "['United States of America' 'United Kingdom' 'Switzerland' 'Canada'\n",
      " 'Hong Kong' 'Japan' 'South Korea' 'Singapore' 'Australia' 'China'\n",
      " 'France' 'Sweden' 'Germany' 'Republic of Ireland' 'Finland' 'Taiwan'\n",
      " 'South Africa' 'Turkey' 'Netherlands' 'Belgium' 'Denmark' 'Norway'\n",
      " 'Spain' 'New Zealand' 'Egypt' 'Austria' 'Israel' 'Brazil' 'Italy'\n",
      " 'Russian Federation' 'Greece' 'Iceland' 'Czech Republic' 'India' 'Poland'\n",
      " 'Iran' 'Portugal' 'Thailand' 'Chile' 'Estonia' 'Saudi Arabia' 'Mexico'\n",
      " 'Colombia' 'Macau' 'Morocco' 'Luxembourg' 'Cyprus' 'Uganda' 'Malaysia'\n",
      " 'Lebanon' 'Romania' 'Slovenia' 'Pakistan' 'Hungary'\n",
      " 'United Arab Emirates' 'Belarus' 'Serbia' 'Slovakia' 'Bangladesh' 'Ghana'\n",
      " 'Nigeria' 'Indonesia' 'Jordan' 'Latvia' 'Kenya' 'Argentina' 'Qatar'\n",
      " 'Oman' 'Ukraine' 'Lithuania']\n"
     ]
    }
   ],
   "source": [
    "# countries:\n",
    "data[\"country\"]= data[\"country\"].replace({'Unisted States of America':'United States of America',\n",
    "                                                 'Unted Kingdom':'United Kingdom'})\n",
    "print(data[\"country\"].unique())"
   ]
  },
  {
   "cell_type": "code",
   "execution_count": 9,
   "metadata": {},
   "outputs": [],
   "source": [
    "#data.num_students = pd.to_numeric(timesData.income, errors='coerce')"
   ]
  },
  {
   "cell_type": "code",
   "execution_count": 10,
   "metadata": {
    "scrolled": false
   },
   "outputs": [
    {
     "name": "stdout",
     "output_type": "stream",
     "text": [
      "0       34.5\n",
      "1       83.7\n",
      "2       87.5\n",
      "3       64.3\n",
      "4          -\n",
      "        ... \n",
      "2598    35.4\n",
      "2599    44.0\n",
      "2600    37.9\n",
      "2601    40.4\n",
      "2602    39.8\n",
      "Name: income, Length: 2603, dtype: object\n"
     ]
    }
   ],
   "source": [
    "print(data[\"income\"])"
   ]
  },
  {
   "cell_type": "code",
   "execution_count": 11,
   "metadata": {},
   "outputs": [],
   "source": [
    "data.dropna(inplace=True)\n",
    "data2016 = data[data.year==2016].iloc[:50,:]\n",
    "\n",
    "data2016[\"num_students\"] = data2016[\"num_students\"].str.replace(',', '')"
   ]
  },
  {
   "cell_type": "code",
   "execution_count": 12,
   "metadata": {},
   "outputs": [],
   "source": [
    "data2016[\"world_rank\"] = data2016[\"world_rank\"].str.replace('=','')"
   ]
  },
  {
   "cell_type": "code",
   "execution_count": 13,
   "metadata": {},
   "outputs": [],
   "source": [
    "data2016[\"num_students\"] = pd.to_numeric(data2016[\"num_students\"], errors='coerce')"
   ]
  },
  {
   "cell_type": "code",
   "execution_count": 14,
   "metadata": {},
   "outputs": [],
   "source": [
    "#data2016"
   ]
  },
  {
   "cell_type": "code",
   "execution_count": 15,
   "metadata": {},
   "outputs": [],
   "source": [
    "data2016[\"international_students\"] = data2016[\"international_students\"].str.replace('%','')\n",
    "#data2016"
   ]
  },
  {
   "cell_type": "code",
   "execution_count": 16,
   "metadata": {},
   "outputs": [],
   "source": [
    "data2016[\"international_students\"] = pd.to_numeric(data2016[\"international_students\"], errors='coerce')\n",
    "#data2016"
   ]
  },
  {
   "cell_type": "code",
   "execution_count": 17,
   "metadata": {
    "scrolled": false
   },
   "outputs": [],
   "source": [
    "data2016[\"international_students\"] = [each/100 for each in data2016[\"international_students\"]]\n",
    "#data2016"
   ]
  },
  {
   "cell_type": "code",
   "execution_count": 18,
   "metadata": {
    "scrolled": false
   },
   "outputs": [],
   "source": [
    "data2016[\"female_male_ratio\"] = [each.split() for each in data2016[\"female_male_ratio\"]]"
   ]
  },
  {
   "cell_type": "code",
   "execution_count": 19,
   "metadata": {},
   "outputs": [
    {
     "data": {
      "text/html": [
       "<div>\n",
       "<style scoped>\n",
       "    .dataframe tbody tr th:only-of-type {\n",
       "        vertical-align: middle;\n",
       "    }\n",
       "\n",
       "    .dataframe tbody tr th {\n",
       "        vertical-align: top;\n",
       "    }\n",
       "\n",
       "    .dataframe thead th {\n",
       "        text-align: right;\n",
       "    }\n",
       "</style>\n",
       "<table border=\"1\" class=\"dataframe\">\n",
       "  <thead>\n",
       "    <tr style=\"text-align: right;\">\n",
       "      <th></th>\n",
       "      <th>world_rank</th>\n",
       "      <th>university_name</th>\n",
       "      <th>country</th>\n",
       "      <th>teaching</th>\n",
       "      <th>international</th>\n",
       "      <th>research</th>\n",
       "      <th>citations</th>\n",
       "      <th>income</th>\n",
       "      <th>total_score</th>\n",
       "      <th>num_students</th>\n",
       "      <th>student_staff_ratio</th>\n",
       "      <th>international_students</th>\n",
       "      <th>female_male_ratio</th>\n",
       "      <th>year</th>\n",
       "    </tr>\n",
       "  </thead>\n",
       "  <tbody>\n",
       "    <tr>\n",
       "      <th>1803</th>\n",
       "      <td>1</td>\n",
       "      <td>California Institute of Technology</td>\n",
       "      <td>United States of America</td>\n",
       "      <td>95.6</td>\n",
       "      <td>64.0</td>\n",
       "      <td>97.6</td>\n",
       "      <td>99.8</td>\n",
       "      <td>97.8</td>\n",
       "      <td>95.2</td>\n",
       "      <td>2243</td>\n",
       "      <td>6.9</td>\n",
       "      <td>0.27</td>\n",
       "      <td>[33, :, 67]</td>\n",
       "      <td>2016</td>\n",
       "    </tr>\n",
       "    <tr>\n",
       "      <th>1804</th>\n",
       "      <td>2</td>\n",
       "      <td>University of Oxford</td>\n",
       "      <td>United Kingdom</td>\n",
       "      <td>86.5</td>\n",
       "      <td>94.4</td>\n",
       "      <td>98.9</td>\n",
       "      <td>98.8</td>\n",
       "      <td>73.1</td>\n",
       "      <td>94.2</td>\n",
       "      <td>19919</td>\n",
       "      <td>11.6</td>\n",
       "      <td>0.34</td>\n",
       "      <td>[46, :, 54]</td>\n",
       "      <td>2016</td>\n",
       "    </tr>\n",
       "    <tr>\n",
       "      <th>1805</th>\n",
       "      <td>3</td>\n",
       "      <td>Stanford University</td>\n",
       "      <td>United States of America</td>\n",
       "      <td>92.5</td>\n",
       "      <td>76.3</td>\n",
       "      <td>96.2</td>\n",
       "      <td>99.9</td>\n",
       "      <td>63.3</td>\n",
       "      <td>93.9</td>\n",
       "      <td>15596</td>\n",
       "      <td>7.8</td>\n",
       "      <td>0.22</td>\n",
       "      <td>[42, :, 58]</td>\n",
       "      <td>2016</td>\n",
       "    </tr>\n",
       "    <tr>\n",
       "      <th>1806</th>\n",
       "      <td>4</td>\n",
       "      <td>University of Cambridge</td>\n",
       "      <td>United Kingdom</td>\n",
       "      <td>88.2</td>\n",
       "      <td>91.5</td>\n",
       "      <td>96.7</td>\n",
       "      <td>97.0</td>\n",
       "      <td>55.0</td>\n",
       "      <td>92.8</td>\n",
       "      <td>18812</td>\n",
       "      <td>11.8</td>\n",
       "      <td>0.34</td>\n",
       "      <td>[46, :, 54]</td>\n",
       "      <td>2016</td>\n",
       "    </tr>\n",
       "    <tr>\n",
       "      <th>1807</th>\n",
       "      <td>5</td>\n",
       "      <td>Massachusetts Institute of Technology</td>\n",
       "      <td>United States of America</td>\n",
       "      <td>89.4</td>\n",
       "      <td>84.0</td>\n",
       "      <td>88.6</td>\n",
       "      <td>99.7</td>\n",
       "      <td>95.4</td>\n",
       "      <td>92.0</td>\n",
       "      <td>11074</td>\n",
       "      <td>9.0</td>\n",
       "      <td>0.33</td>\n",
       "      <td>[37, :, 63]</td>\n",
       "      <td>2016</td>\n",
       "    </tr>\n",
       "    <tr>\n",
       "      <th>1809</th>\n",
       "      <td>7</td>\n",
       "      <td>Princeton University</td>\n",
       "      <td>United States of America</td>\n",
       "      <td>85.1</td>\n",
       "      <td>78.5</td>\n",
       "      <td>91.9</td>\n",
       "      <td>99.3</td>\n",
       "      <td>52.1</td>\n",
       "      <td>90.1</td>\n",
       "      <td>7929</td>\n",
       "      <td>8.4</td>\n",
       "      <td>0.27</td>\n",
       "      <td>[45, :, 55]</td>\n",
       "      <td>2016</td>\n",
       "    </tr>\n",
       "    <tr>\n",
       "      <th>1810</th>\n",
       "      <td>8</td>\n",
       "      <td>Imperial College London</td>\n",
       "      <td>United Kingdom</td>\n",
       "      <td>83.3</td>\n",
       "      <td>96.0</td>\n",
       "      <td>88.5</td>\n",
       "      <td>96.7</td>\n",
       "      <td>53.7</td>\n",
       "      <td>89.1</td>\n",
       "      <td>15060</td>\n",
       "      <td>11.7</td>\n",
       "      <td>0.51</td>\n",
       "      <td>[37, :, 63]</td>\n",
       "      <td>2016</td>\n",
       "    </tr>\n",
       "    <tr>\n",
       "      <th>1811</th>\n",
       "      <td>9</td>\n",
       "      <td>ETH Zurich – Swiss Federal Institute of Techno...</td>\n",
       "      <td>Switzerland</td>\n",
       "      <td>77.0</td>\n",
       "      <td>97.9</td>\n",
       "      <td>95.0</td>\n",
       "      <td>91.1</td>\n",
       "      <td>80.0</td>\n",
       "      <td>88.3</td>\n",
       "      <td>18178</td>\n",
       "      <td>14.7</td>\n",
       "      <td>0.37</td>\n",
       "      <td>[31, :, 69]</td>\n",
       "      <td>2016</td>\n",
       "    </tr>\n",
       "    <tr>\n",
       "      <th>1812</th>\n",
       "      <td>10</td>\n",
       "      <td>University of Chicago</td>\n",
       "      <td>United States of America</td>\n",
       "      <td>85.7</td>\n",
       "      <td>65.0</td>\n",
       "      <td>88.9</td>\n",
       "      <td>99.2</td>\n",
       "      <td>36.6</td>\n",
       "      <td>87.9</td>\n",
       "      <td>14221</td>\n",
       "      <td>6.9</td>\n",
       "      <td>0.21</td>\n",
       "      <td>[42, :, 58]</td>\n",
       "      <td>2016</td>\n",
       "    </tr>\n",
       "    <tr>\n",
       "      <th>1813</th>\n",
       "      <td>11</td>\n",
       "      <td>Johns Hopkins University</td>\n",
       "      <td>United States of America</td>\n",
       "      <td>77.6</td>\n",
       "      <td>70.0</td>\n",
       "      <td>90.4</td>\n",
       "      <td>98.2</td>\n",
       "      <td>100.0</td>\n",
       "      <td>87.6</td>\n",
       "      <td>15128</td>\n",
       "      <td>3.6</td>\n",
       "      <td>0.23</td>\n",
       "      <td>[50, :, 50]</td>\n",
       "      <td>2016</td>\n",
       "    </tr>\n",
       "    <tr>\n",
       "      <th>1814</th>\n",
       "      <td>12</td>\n",
       "      <td>Yale University</td>\n",
       "      <td>United States of America</td>\n",
       "      <td>86.5</td>\n",
       "      <td>64.3</td>\n",
       "      <td>87.8</td>\n",
       "      <td>97.2</td>\n",
       "      <td>43.3</td>\n",
       "      <td>87.4</td>\n",
       "      <td>11751</td>\n",
       "      <td>4.4</td>\n",
       "      <td>0.20</td>\n",
       "      <td>[50, :, 50]</td>\n",
       "      <td>2016</td>\n",
       "    </tr>\n",
       "    <tr>\n",
       "      <th>1815</th>\n",
       "      <td>13</td>\n",
       "      <td>University of California, Berkeley</td>\n",
       "      <td>United States of America</td>\n",
       "      <td>80.4</td>\n",
       "      <td>61.9</td>\n",
       "      <td>91.1</td>\n",
       "      <td>99.7</td>\n",
       "      <td>47.9</td>\n",
       "      <td>87.2</td>\n",
       "      <td>36186</td>\n",
       "      <td>16.4</td>\n",
       "      <td>0.15</td>\n",
       "      <td>[50, :, 50]</td>\n",
       "      <td>2016</td>\n",
       "    </tr>\n",
       "    <tr>\n",
       "      <th>1816</th>\n",
       "      <td>14</td>\n",
       "      <td>University College London</td>\n",
       "      <td>United Kingdom</td>\n",
       "      <td>78.1</td>\n",
       "      <td>94.4</td>\n",
       "      <td>91.0</td>\n",
       "      <td>94.2</td>\n",
       "      <td>40.5</td>\n",
       "      <td>87.1</td>\n",
       "      <td>26607</td>\n",
       "      <td>10.7</td>\n",
       "      <td>0.46</td>\n",
       "      <td>[56, :, 44]</td>\n",
       "      <td>2016</td>\n",
       "    </tr>\n",
       "    <tr>\n",
       "      <th>1818</th>\n",
       "      <td>16</td>\n",
       "      <td>University of California, Los Angeles</td>\n",
       "      <td>United States of America</td>\n",
       "      <td>80.8</td>\n",
       "      <td>56.4</td>\n",
       "      <td>88.6</td>\n",
       "      <td>98.5</td>\n",
       "      <td>47.9</td>\n",
       "      <td>85.8</td>\n",
       "      <td>38206</td>\n",
       "      <td>10.3</td>\n",
       "      <td>0.15</td>\n",
       "      <td>[52, :, 48]</td>\n",
       "      <td>2016</td>\n",
       "    </tr>\n",
       "    <tr>\n",
       "      <th>1819</th>\n",
       "      <td>17</td>\n",
       "      <td>University of Pennsylvania</td>\n",
       "      <td>United States of America</td>\n",
       "      <td>82.0</td>\n",
       "      <td>49.5</td>\n",
       "      <td>86.9</td>\n",
       "      <td>98.6</td>\n",
       "      <td>47.9</td>\n",
       "      <td>85.2</td>\n",
       "      <td>20376</td>\n",
       "      <td>6.5</td>\n",
       "      <td>0.20</td>\n",
       "      <td>[51, :, 49]</td>\n",
       "      <td>2016</td>\n",
       "    </tr>\n",
       "    <tr>\n",
       "      <th>1820</th>\n",
       "      <td>18</td>\n",
       "      <td>Cornell University</td>\n",
       "      <td>United States of America</td>\n",
       "      <td>77.9</td>\n",
       "      <td>63.9</td>\n",
       "      <td>86.1</td>\n",
       "      <td>97.2</td>\n",
       "      <td>33.7</td>\n",
       "      <td>84.0</td>\n",
       "      <td>21424</td>\n",
       "      <td>10.2</td>\n",
       "      <td>0.19</td>\n",
       "      <td>[48, :, 52]</td>\n",
       "      <td>2016</td>\n",
       "    </tr>\n",
       "    <tr>\n",
       "      <th>1822</th>\n",
       "      <td>20</td>\n",
       "      <td>Duke University</td>\n",
       "      <td>United States of America</td>\n",
       "      <td>76.0</td>\n",
       "      <td>56.5</td>\n",
       "      <td>78.0</td>\n",
       "      <td>99.0</td>\n",
       "      <td>100.0</td>\n",
       "      <td>82.7</td>\n",
       "      <td>15172</td>\n",
       "      <td>4.8</td>\n",
       "      <td>0.17</td>\n",
       "      <td>[49, :, 51]</td>\n",
       "      <td>2016</td>\n",
       "    </tr>\n",
       "    <tr>\n",
       "      <th>1823</th>\n",
       "      <td>21</td>\n",
       "      <td>University of Michigan</td>\n",
       "      <td>United States of America</td>\n",
       "      <td>76.8</td>\n",
       "      <td>53.7</td>\n",
       "      <td>85.2</td>\n",
       "      <td>94.4</td>\n",
       "      <td>56.3</td>\n",
       "      <td>82.4</td>\n",
       "      <td>41786</td>\n",
       "      <td>9.0</td>\n",
       "      <td>0.16</td>\n",
       "      <td>[48, :, 52]</td>\n",
       "      <td>2016</td>\n",
       "    </tr>\n",
       "    <tr>\n",
       "      <th>1824</th>\n",
       "      <td>22</td>\n",
       "      <td>Carnegie Mellon University</td>\n",
       "      <td>United States of America</td>\n",
       "      <td>67.4</td>\n",
       "      <td>57.1</td>\n",
       "      <td>88.8</td>\n",
       "      <td>99.1</td>\n",
       "      <td>57.5</td>\n",
       "      <td>82.3</td>\n",
       "      <td>11885</td>\n",
       "      <td>13.1</td>\n",
       "      <td>0.35</td>\n",
       "      <td>[39, :, 61]</td>\n",
       "      <td>2016</td>\n",
       "    </tr>\n",
       "    <tr>\n",
       "      <th>1826</th>\n",
       "      <td>24</td>\n",
       "      <td>University of Edinburgh</td>\n",
       "      <td>United Kingdom</td>\n",
       "      <td>68.6</td>\n",
       "      <td>89.8</td>\n",
       "      <td>77.2</td>\n",
       "      <td>96.3</td>\n",
       "      <td>36.1</td>\n",
       "      <td>80.3</td>\n",
       "      <td>25774</td>\n",
       "      <td>14.1</td>\n",
       "      <td>0.36</td>\n",
       "      <td>[58, :, 42]</td>\n",
       "      <td>2016</td>\n",
       "    </tr>\n",
       "    <tr>\n",
       "      <th>1827</th>\n",
       "      <td>25</td>\n",
       "      <td>Northwestern University</td>\n",
       "      <td>United States of America</td>\n",
       "      <td>69.8</td>\n",
       "      <td>53.9</td>\n",
       "      <td>78.4</td>\n",
       "      <td>96.5</td>\n",
       "      <td>81.2</td>\n",
       "      <td>79.5</td>\n",
       "      <td>18334</td>\n",
       "      <td>13.8</td>\n",
       "      <td>0.15</td>\n",
       "      <td>[48, :, 52]</td>\n",
       "      <td>2016</td>\n",
       "    </tr>\n",
       "    <tr>\n",
       "      <th>1828</th>\n",
       "      <td>26</td>\n",
       "      <td>National University of Singapore</td>\n",
       "      <td>Singapore</td>\n",
       "      <td>71.7</td>\n",
       "      <td>96.2</td>\n",
       "      <td>84.5</td>\n",
       "      <td>79.4</td>\n",
       "      <td>49.8</td>\n",
       "      <td>79.2</td>\n",
       "      <td>31592</td>\n",
       "      <td>15.5</td>\n",
       "      <td>0.34</td>\n",
       "      <td>[49, :, 51]</td>\n",
       "      <td>2016</td>\n",
       "    </tr>\n",
       "    <tr>\n",
       "      <th>1829</th>\n",
       "      <td>27</td>\n",
       "      <td>King’s College London</td>\n",
       "      <td>United Kingdom</td>\n",
       "      <td>64.5</td>\n",
       "      <td>93.8</td>\n",
       "      <td>75.8</td>\n",
       "      <td>93.8</td>\n",
       "      <td>40.1</td>\n",
       "      <td>78.2</td>\n",
       "      <td>21394</td>\n",
       "      <td>11.4</td>\n",
       "      <td>0.37</td>\n",
       "      <td>[61, :, 39]</td>\n",
       "      <td>2016</td>\n",
       "    </tr>\n",
       "    <tr>\n",
       "      <th>1830</th>\n",
       "      <td>28</td>\n",
       "      <td>Karolinska Institute</td>\n",
       "      <td>Sweden</td>\n",
       "      <td>60.6</td>\n",
       "      <td>73.1</td>\n",
       "      <td>81.1</td>\n",
       "      <td>92.2</td>\n",
       "      <td>75.8</td>\n",
       "      <td>77.5</td>\n",
       "      <td>7774</td>\n",
       "      <td>11.5</td>\n",
       "      <td>0.22</td>\n",
       "      <td>[70, :, 30]</td>\n",
       "      <td>2016</td>\n",
       "    </tr>\n",
       "    <tr>\n",
       "      <th>1831</th>\n",
       "      <td>29</td>\n",
       "      <td>LMU Munich</td>\n",
       "      <td>Germany</td>\n",
       "      <td>70.5</td>\n",
       "      <td>62.8</td>\n",
       "      <td>77.4</td>\n",
       "      <td>85.7</td>\n",
       "      <td>100.0</td>\n",
       "      <td>77.3</td>\n",
       "      <td>35691</td>\n",
       "      <td>15.5</td>\n",
       "      <td>0.13</td>\n",
       "      <td>[62, :, 38]</td>\n",
       "      <td>2016</td>\n",
       "    </tr>\n",
       "    <tr>\n",
       "      <th>1832</th>\n",
       "      <td>30</td>\n",
       "      <td>New York University</td>\n",
       "      <td>United States of America</td>\n",
       "      <td>74.7</td>\n",
       "      <td>49.3</td>\n",
       "      <td>72.3</td>\n",
       "      <td>95.3</td>\n",
       "      <td>30.4</td>\n",
       "      <td>77.2</td>\n",
       "      <td>42056</td>\n",
       "      <td>6.8</td>\n",
       "      <td>0.19</td>\n",
       "      <td>[55, :, 45]</td>\n",
       "      <td>2016</td>\n",
       "    </tr>\n",
       "    <tr>\n",
       "      <th>1833</th>\n",
       "      <td>31</td>\n",
       "      <td>École Polytechnique Fédérale de Lausanne</td>\n",
       "      <td>Switzerland</td>\n",
       "      <td>61.3</td>\n",
       "      <td>98.6</td>\n",
       "      <td>67.5</td>\n",
       "      <td>94.6</td>\n",
       "      <td>65.4</td>\n",
       "      <td>76.1</td>\n",
       "      <td>9666</td>\n",
       "      <td>10.5</td>\n",
       "      <td>0.54</td>\n",
       "      <td>[27, :, 73]</td>\n",
       "      <td>2016</td>\n",
       "    </tr>\n",
       "    <tr>\n",
       "      <th>1834</th>\n",
       "      <td>32</td>\n",
       "      <td>University of Washington</td>\n",
       "      <td>United States of America</td>\n",
       "      <td>67.1</td>\n",
       "      <td>51.2</td>\n",
       "      <td>70.0</td>\n",
       "      <td>98.6</td>\n",
       "      <td>43.1</td>\n",
       "      <td>75.6</td>\n",
       "      <td>44020</td>\n",
       "      <td>11.8</td>\n",
       "      <td>0.13</td>\n",
       "      <td>[53, :, 47]</td>\n",
       "      <td>2016</td>\n",
       "    </tr>\n",
       "    <tr>\n",
       "      <th>1835</th>\n",
       "      <td>33</td>\n",
       "      <td>University of Melbourne</td>\n",
       "      <td>Australia</td>\n",
       "      <td>62.0</td>\n",
       "      <td>87.1</td>\n",
       "      <td>75.5</td>\n",
       "      <td>86.6</td>\n",
       "      <td>64.6</td>\n",
       "      <td>75.4</td>\n",
       "      <td>40128</td>\n",
       "      <td>23.7</td>\n",
       "      <td>0.35</td>\n",
       "      <td>[55, :, 45]</td>\n",
       "      <td>2016</td>\n",
       "    </tr>\n",
       "    <tr>\n",
       "      <th>1836</th>\n",
       "      <td>34</td>\n",
       "      <td>University of British Columbia</td>\n",
       "      <td>Canada</td>\n",
       "      <td>60.2</td>\n",
       "      <td>90.5</td>\n",
       "      <td>73.2</td>\n",
       "      <td>91.5</td>\n",
       "      <td>42.6</td>\n",
       "      <td>75.3</td>\n",
       "      <td>50152</td>\n",
       "      <td>17.6</td>\n",
       "      <td>0.25</td>\n",
       "      <td>[54, :, 46]</td>\n",
       "      <td>2016</td>\n",
       "    </tr>\n",
       "    <tr>\n",
       "      <th>1837</th>\n",
       "      <td>35</td>\n",
       "      <td>KU Leuven</td>\n",
       "      <td>Belgium</td>\n",
       "      <td>59.9</td>\n",
       "      <td>68.6</td>\n",
       "      <td>76.9</td>\n",
       "      <td>87.3</td>\n",
       "      <td>100.0</td>\n",
       "      <td>74.8</td>\n",
       "      <td>42503</td>\n",
       "      <td>41.9</td>\n",
       "      <td>0.18</td>\n",
       "      <td>[54, :, 46]</td>\n",
       "      <td>2016</td>\n",
       "    </tr>\n",
       "    <tr>\n",
       "      <th>1838</th>\n",
       "      <td>36</td>\n",
       "      <td>University of Illinois at Urbana-Champaign</td>\n",
       "      <td>United States of America</td>\n",
       "      <td>64.5</td>\n",
       "      <td>45.8</td>\n",
       "      <td>81.2</td>\n",
       "      <td>86.8</td>\n",
       "      <td>52.8</td>\n",
       "      <td>74.5</td>\n",
       "      <td>42727</td>\n",
       "      <td>18.7</td>\n",
       "      <td>0.20</td>\n",
       "      <td>[47, :, 53]</td>\n",
       "      <td>2016</td>\n",
       "    </tr>\n",
       "    <tr>\n",
       "      <th>1839</th>\n",
       "      <td>37</td>\n",
       "      <td>Heidelberg University</td>\n",
       "      <td>Germany</td>\n",
       "      <td>68.8</td>\n",
       "      <td>62.8</td>\n",
       "      <td>69.6</td>\n",
       "      <td>88.2</td>\n",
       "      <td>68.2</td>\n",
       "      <td>74.4</td>\n",
       "      <td>28881</td>\n",
       "      <td>24.5</td>\n",
       "      <td>0.17</td>\n",
       "      <td>[55, :, 45]</td>\n",
       "      <td>2016</td>\n",
       "    </tr>\n",
       "    <tr>\n",
       "      <th>1840</th>\n",
       "      <td>38</td>\n",
       "      <td>McGill University</td>\n",
       "      <td>Canada</td>\n",
       "      <td>66.1</td>\n",
       "      <td>85.5</td>\n",
       "      <td>72.1</td>\n",
       "      <td>78.9</td>\n",
       "      <td>40.3</td>\n",
       "      <td>72.6</td>\n",
       "      <td>31326</td>\n",
       "      <td>13.7</td>\n",
       "      <td>0.23</td>\n",
       "      <td>[56, :, 44]</td>\n",
       "      <td>2016</td>\n",
       "    </tr>\n",
       "    <tr>\n",
       "      <th>1841</th>\n",
       "      <td>39</td>\n",
       "      <td>University of California, San Diego</td>\n",
       "      <td>United States of America</td>\n",
       "      <td>56.9</td>\n",
       "      <td>42.9</td>\n",
       "      <td>69.8</td>\n",
       "      <td>98.7</td>\n",
       "      <td>56.7</td>\n",
       "      <td>72.2</td>\n",
       "      <td>27233</td>\n",
       "      <td>6.5</td>\n",
       "      <td>0.11</td>\n",
       "      <td>[48, :, 52]</td>\n",
       "      <td>2016</td>\n",
       "    </tr>\n",
       "    <tr>\n",
       "      <th>1842</th>\n",
       "      <td>39</td>\n",
       "      <td>University of California, Santa Barbara</td>\n",
       "      <td>United States of America</td>\n",
       "      <td>52.6</td>\n",
       "      <td>61.5</td>\n",
       "      <td>66.0</td>\n",
       "      <td>99.2</td>\n",
       "      <td>90.4</td>\n",
       "      <td>72.2</td>\n",
       "      <td>22020</td>\n",
       "      <td>27.3</td>\n",
       "      <td>0.11</td>\n",
       "      <td>[52, :, 48]</td>\n",
       "      <td>2016</td>\n",
       "    </tr>\n",
       "    <tr>\n",
       "      <th>1843</th>\n",
       "      <td>41</td>\n",
       "      <td>Georgia Institute of Technology</td>\n",
       "      <td>United States of America</td>\n",
       "      <td>57.8</td>\n",
       "      <td>71.5</td>\n",
       "      <td>72.7</td>\n",
       "      <td>86.0</td>\n",
       "      <td>73.7</td>\n",
       "      <td>72.1</td>\n",
       "      <td>19967</td>\n",
       "      <td>20.1</td>\n",
       "      <td>0.26</td>\n",
       "      <td>[31, :, 69]</td>\n",
       "      <td>2016</td>\n",
       "    </tr>\n",
       "    <tr>\n",
       "      <th>1846</th>\n",
       "      <td>44</td>\n",
       "      <td>University of California, Davis</td>\n",
       "      <td>United States of America</td>\n",
       "      <td>60.1</td>\n",
       "      <td>58.4</td>\n",
       "      <td>72.7</td>\n",
       "      <td>84.3</td>\n",
       "      <td>57.3</td>\n",
       "      <td>71.0</td>\n",
       "      <td>35364</td>\n",
       "      <td>13.9</td>\n",
       "      <td>0.13</td>\n",
       "      <td>[54, :, 46]</td>\n",
       "      <td>2016</td>\n",
       "    </tr>\n",
       "    <tr>\n",
       "      <th>1847</th>\n",
       "      <td>44</td>\n",
       "      <td>University of Hong Kong</td>\n",
       "      <td>Hong Kong</td>\n",
       "      <td>64.6</td>\n",
       "      <td>99.5</td>\n",
       "      <td>72.8</td>\n",
       "      <td>70.1</td>\n",
       "      <td>53.7</td>\n",
       "      <td>71.0</td>\n",
       "      <td>19835</td>\n",
       "      <td>17.6</td>\n",
       "      <td>0.38</td>\n",
       "      <td>[53, :, 47]</td>\n",
       "      <td>2016</td>\n",
       "    </tr>\n",
       "    <tr>\n",
       "      <th>1848</th>\n",
       "      <td>46</td>\n",
       "      <td>University of Texas at Austin</td>\n",
       "      <td>United States of America</td>\n",
       "      <td>59.3</td>\n",
       "      <td>31.7</td>\n",
       "      <td>69.7</td>\n",
       "      <td>92.2</td>\n",
       "      <td>63.1</td>\n",
       "      <td>70.3</td>\n",
       "      <td>49427</td>\n",
       "      <td>17.4</td>\n",
       "      <td>0.09</td>\n",
       "      <td>[51, :, 49]</td>\n",
       "      <td>2016</td>\n",
       "    </tr>\n",
       "    <tr>\n",
       "      <th>1849</th>\n",
       "      <td>47</td>\n",
       "      <td>Tsinghua University</td>\n",
       "      <td>China</td>\n",
       "      <td>73.3</td>\n",
       "      <td>39.5</td>\n",
       "      <td>83.0</td>\n",
       "      <td>58.8</td>\n",
       "      <td>100.0</td>\n",
       "      <td>70.0</td>\n",
       "      <td>39763</td>\n",
       "      <td>13.7</td>\n",
       "      <td>0.10</td>\n",
       "      <td>[32, :, 68]</td>\n",
       "      <td>2016</td>\n",
       "    </tr>\n",
       "    <tr>\n",
       "      <th>1850</th>\n",
       "      <td>47</td>\n",
       "      <td>Wageningen University and Research Center</td>\n",
       "      <td>Netherlands</td>\n",
       "      <td>52.6</td>\n",
       "      <td>70.3</td>\n",
       "      <td>66.9</td>\n",
       "      <td>87.8</td>\n",
       "      <td>100.0</td>\n",
       "      <td>70.0</td>\n",
       "      <td>9248</td>\n",
       "      <td>17.0</td>\n",
       "      <td>0.21</td>\n",
       "      <td>[56, :, 44]</td>\n",
       "      <td>2016</td>\n",
       "    </tr>\n",
       "    <tr>\n",
       "      <th>1852</th>\n",
       "      <td>50</td>\n",
       "      <td>University of Wisconsin-Madison</td>\n",
       "      <td>United States of America</td>\n",
       "      <td>65.1</td>\n",
       "      <td>33.0</td>\n",
       "      <td>68.2</td>\n",
       "      <td>86.6</td>\n",
       "      <td>48.5</td>\n",
       "      <td>69.7</td>\n",
       "      <td>39655</td>\n",
       "      <td>10.8</td>\n",
       "      <td>0.11</td>\n",
       "      <td>[51, :, 49]</td>\n",
       "      <td>2016</td>\n",
       "    </tr>\n",
       "    <tr>\n",
       "      <th>1854</th>\n",
       "      <td>52</td>\n",
       "      <td>Australian National University</td>\n",
       "      <td>Australia</td>\n",
       "      <td>54.7</td>\n",
       "      <td>93.3</td>\n",
       "      <td>77.3</td>\n",
       "      <td>72.3</td>\n",
       "      <td>48.0</td>\n",
       "      <td>69.5</td>\n",
       "      <td>14604</td>\n",
       "      <td>19.2</td>\n",
       "      <td>0.35</td>\n",
       "      <td>[52, :, 48]</td>\n",
       "      <td>2016</td>\n",
       "    </tr>\n",
       "    <tr>\n",
       "      <th>1855</th>\n",
       "      <td>53</td>\n",
       "      <td>Technical University of Munich</td>\n",
       "      <td>Germany</td>\n",
       "      <td>61.0</td>\n",
       "      <td>63.8</td>\n",
       "      <td>66.0</td>\n",
       "      <td>80.1</td>\n",
       "      <td>99.2</td>\n",
       "      <td>69.4</td>\n",
       "      <td>35565</td>\n",
       "      <td>31.5</td>\n",
       "      <td>0.20</td>\n",
       "      <td>[33, :, 67]</td>\n",
       "      <td>2016</td>\n",
       "    </tr>\n",
       "    <tr>\n",
       "      <th>1856</th>\n",
       "      <td>54</td>\n",
       "      <td>École Normale Supérieure</td>\n",
       "      <td>France</td>\n",
       "      <td>70.6</td>\n",
       "      <td>85.5</td>\n",
       "      <td>47.7</td>\n",
       "      <td>87.1</td>\n",
       "      <td>37.1</td>\n",
       "      <td>69.0</td>\n",
       "      <td>2400</td>\n",
       "      <td>7.9</td>\n",
       "      <td>0.20</td>\n",
       "      <td>[46, :, 54]</td>\n",
       "      <td>2016</td>\n",
       "    </tr>\n",
       "    <tr>\n",
       "      <th>1857</th>\n",
       "      <td>55</td>\n",
       "      <td>Nanyang Technological University</td>\n",
       "      <td>Singapore</td>\n",
       "      <td>48.4</td>\n",
       "      <td>94.6</td>\n",
       "      <td>61.3</td>\n",
       "      <td>85.6</td>\n",
       "      <td>99.9</td>\n",
       "      <td>68.2</td>\n",
       "      <td>25028</td>\n",
       "      <td>16.2</td>\n",
       "      <td>0.33</td>\n",
       "      <td>[48, :, 52]</td>\n",
       "      <td>2016</td>\n",
       "    </tr>\n",
       "    <tr>\n",
       "      <th>1858</th>\n",
       "      <td>56</td>\n",
       "      <td>University of Manchester</td>\n",
       "      <td>United Kingdom</td>\n",
       "      <td>58.4</td>\n",
       "      <td>87.0</td>\n",
       "      <td>66.0</td>\n",
       "      <td>77.3</td>\n",
       "      <td>42.0</td>\n",
       "      <td>68.1</td>\n",
       "      <td>34938</td>\n",
       "      <td>15.3</td>\n",
       "      <td>0.34</td>\n",
       "      <td>[52, :, 48]</td>\n",
       "      <td>2016</td>\n",
       "    </tr>\n",
       "    <tr>\n",
       "      <th>1859</th>\n",
       "      <td>56</td>\n",
       "      <td>University of Sydney</td>\n",
       "      <td>Australia</td>\n",
       "      <td>54.3</td>\n",
       "      <td>84.4</td>\n",
       "      <td>68.1</td>\n",
       "      <td>77.5</td>\n",
       "      <td>72.4</td>\n",
       "      <td>68.1</td>\n",
       "      <td>41868</td>\n",
       "      <td>20.2</td>\n",
       "      <td>0.28</td>\n",
       "      <td>[57, :, 43]</td>\n",
       "      <td>2016</td>\n",
       "    </tr>\n",
       "    <tr>\n",
       "      <th>1860</th>\n",
       "      <td>58</td>\n",
       "      <td>University of Amsterdam</td>\n",
       "      <td>Netherlands</td>\n",
       "      <td>52.2</td>\n",
       "      <td>66.5</td>\n",
       "      <td>64.7</td>\n",
       "      <td>87.4</td>\n",
       "      <td>62.8</td>\n",
       "      <td>67.8</td>\n",
       "      <td>24570</td>\n",
       "      <td>14.4</td>\n",
       "      <td>0.11</td>\n",
       "      <td>[53, :, 47]</td>\n",
       "      <td>2016</td>\n",
       "    </tr>\n",
       "  </tbody>\n",
       "</table>\n",
       "</div>"
      ],
      "text/plain": [
       "     world_rank                                    university_name  \\\n",
       "1803          1                 California Institute of Technology   \n",
       "1804          2                               University of Oxford   \n",
       "1805          3                                Stanford University   \n",
       "1806          4                            University of Cambridge   \n",
       "1807          5              Massachusetts Institute of Technology   \n",
       "1809          7                               Princeton University   \n",
       "1810          8                            Imperial College London   \n",
       "1811          9  ETH Zurich – Swiss Federal Institute of Techno...   \n",
       "1812         10                              University of Chicago   \n",
       "1813         11                           Johns Hopkins University   \n",
       "1814         12                                    Yale University   \n",
       "1815         13                 University of California, Berkeley   \n",
       "1816         14                          University College London   \n",
       "1818         16              University of California, Los Angeles   \n",
       "1819         17                         University of Pennsylvania   \n",
       "1820         18                                 Cornell University   \n",
       "1822         20                                    Duke University   \n",
       "1823         21                             University of Michigan   \n",
       "1824         22                         Carnegie Mellon University   \n",
       "1826         24                            University of Edinburgh   \n",
       "1827         25                            Northwestern University   \n",
       "1828         26                   National University of Singapore   \n",
       "1829         27                              King’s College London   \n",
       "1830         28                               Karolinska Institute   \n",
       "1831         29                                         LMU Munich   \n",
       "1832         30                                New York University   \n",
       "1833         31           École Polytechnique Fédérale de Lausanne   \n",
       "1834         32                           University of Washington   \n",
       "1835         33                            University of Melbourne   \n",
       "1836         34                     University of British Columbia   \n",
       "1837         35                                          KU Leuven   \n",
       "1838         36         University of Illinois at Urbana-Champaign   \n",
       "1839         37                              Heidelberg University   \n",
       "1840         38                                  McGill University   \n",
       "1841         39                University of California, San Diego   \n",
       "1842         39            University of California, Santa Barbara   \n",
       "1843         41                    Georgia Institute of Technology   \n",
       "1846         44                    University of California, Davis   \n",
       "1847         44                            University of Hong Kong   \n",
       "1848         46                      University of Texas at Austin   \n",
       "1849         47                                Tsinghua University   \n",
       "1850         47          Wageningen University and Research Center   \n",
       "1852         50                    University of Wisconsin-Madison   \n",
       "1854         52                     Australian National University   \n",
       "1855         53                     Technical University of Munich   \n",
       "1856         54                           École Normale Supérieure   \n",
       "1857         55                   Nanyang Technological University   \n",
       "1858         56                           University of Manchester   \n",
       "1859         56                               University of Sydney   \n",
       "1860         58                            University of Amsterdam   \n",
       "\n",
       "                       country  teaching international  research  citations  \\\n",
       "1803  United States of America      95.6          64.0      97.6       99.8   \n",
       "1804            United Kingdom      86.5          94.4      98.9       98.8   \n",
       "1805  United States of America      92.5          76.3      96.2       99.9   \n",
       "1806            United Kingdom      88.2          91.5      96.7       97.0   \n",
       "1807  United States of America      89.4          84.0      88.6       99.7   \n",
       "1809  United States of America      85.1          78.5      91.9       99.3   \n",
       "1810            United Kingdom      83.3          96.0      88.5       96.7   \n",
       "1811               Switzerland      77.0          97.9      95.0       91.1   \n",
       "1812  United States of America      85.7          65.0      88.9       99.2   \n",
       "1813  United States of America      77.6          70.0      90.4       98.2   \n",
       "1814  United States of America      86.5          64.3      87.8       97.2   \n",
       "1815  United States of America      80.4          61.9      91.1       99.7   \n",
       "1816            United Kingdom      78.1          94.4      91.0       94.2   \n",
       "1818  United States of America      80.8          56.4      88.6       98.5   \n",
       "1819  United States of America      82.0          49.5      86.9       98.6   \n",
       "1820  United States of America      77.9          63.9      86.1       97.2   \n",
       "1822  United States of America      76.0          56.5      78.0       99.0   \n",
       "1823  United States of America      76.8          53.7      85.2       94.4   \n",
       "1824  United States of America      67.4          57.1      88.8       99.1   \n",
       "1826            United Kingdom      68.6          89.8      77.2       96.3   \n",
       "1827  United States of America      69.8          53.9      78.4       96.5   \n",
       "1828                 Singapore      71.7          96.2      84.5       79.4   \n",
       "1829            United Kingdom      64.5          93.8      75.8       93.8   \n",
       "1830                    Sweden      60.6          73.1      81.1       92.2   \n",
       "1831                   Germany      70.5          62.8      77.4       85.7   \n",
       "1832  United States of America      74.7          49.3      72.3       95.3   \n",
       "1833               Switzerland      61.3          98.6      67.5       94.6   \n",
       "1834  United States of America      67.1          51.2      70.0       98.6   \n",
       "1835                 Australia      62.0          87.1      75.5       86.6   \n",
       "1836                    Canada      60.2          90.5      73.2       91.5   \n",
       "1837                   Belgium      59.9          68.6      76.9       87.3   \n",
       "1838  United States of America      64.5          45.8      81.2       86.8   \n",
       "1839                   Germany      68.8          62.8      69.6       88.2   \n",
       "1840                    Canada      66.1          85.5      72.1       78.9   \n",
       "1841  United States of America      56.9          42.9      69.8       98.7   \n",
       "1842  United States of America      52.6          61.5      66.0       99.2   \n",
       "1843  United States of America      57.8          71.5      72.7       86.0   \n",
       "1846  United States of America      60.1          58.4      72.7       84.3   \n",
       "1847                 Hong Kong      64.6          99.5      72.8       70.1   \n",
       "1848  United States of America      59.3          31.7      69.7       92.2   \n",
       "1849                     China      73.3          39.5      83.0       58.8   \n",
       "1850               Netherlands      52.6          70.3      66.9       87.8   \n",
       "1852  United States of America      65.1          33.0      68.2       86.6   \n",
       "1854                 Australia      54.7          93.3      77.3       72.3   \n",
       "1855                   Germany      61.0          63.8      66.0       80.1   \n",
       "1856                    France      70.6          85.5      47.7       87.1   \n",
       "1857                 Singapore      48.4          94.6      61.3       85.6   \n",
       "1858            United Kingdom      58.4          87.0      66.0       77.3   \n",
       "1859                 Australia      54.3          84.4      68.1       77.5   \n",
       "1860               Netherlands      52.2          66.5      64.7       87.4   \n",
       "\n",
       "     income total_score  num_students  student_staff_ratio  \\\n",
       "1803   97.8        95.2          2243                  6.9   \n",
       "1804   73.1        94.2         19919                 11.6   \n",
       "1805   63.3        93.9         15596                  7.8   \n",
       "1806   55.0        92.8         18812                 11.8   \n",
       "1807   95.4        92.0         11074                  9.0   \n",
       "1809   52.1        90.1          7929                  8.4   \n",
       "1810   53.7        89.1         15060                 11.7   \n",
       "1811   80.0        88.3         18178                 14.7   \n",
       "1812   36.6        87.9         14221                  6.9   \n",
       "1813  100.0        87.6         15128                  3.6   \n",
       "1814   43.3        87.4         11751                  4.4   \n",
       "1815   47.9        87.2         36186                 16.4   \n",
       "1816   40.5        87.1         26607                 10.7   \n",
       "1818   47.9        85.8         38206                 10.3   \n",
       "1819   47.9        85.2         20376                  6.5   \n",
       "1820   33.7        84.0         21424                 10.2   \n",
       "1822  100.0        82.7         15172                  4.8   \n",
       "1823   56.3        82.4         41786                  9.0   \n",
       "1824   57.5        82.3         11885                 13.1   \n",
       "1826   36.1        80.3         25774                 14.1   \n",
       "1827   81.2        79.5         18334                 13.8   \n",
       "1828   49.8        79.2         31592                 15.5   \n",
       "1829   40.1        78.2         21394                 11.4   \n",
       "1830   75.8        77.5          7774                 11.5   \n",
       "1831  100.0        77.3         35691                 15.5   \n",
       "1832   30.4        77.2         42056                  6.8   \n",
       "1833   65.4        76.1          9666                 10.5   \n",
       "1834   43.1        75.6         44020                 11.8   \n",
       "1835   64.6        75.4         40128                 23.7   \n",
       "1836   42.6        75.3         50152                 17.6   \n",
       "1837  100.0        74.8         42503                 41.9   \n",
       "1838   52.8        74.5         42727                 18.7   \n",
       "1839   68.2        74.4         28881                 24.5   \n",
       "1840   40.3        72.6         31326                 13.7   \n",
       "1841   56.7        72.2         27233                  6.5   \n",
       "1842   90.4        72.2         22020                 27.3   \n",
       "1843   73.7        72.1         19967                 20.1   \n",
       "1846   57.3        71.0         35364                 13.9   \n",
       "1847   53.7        71.0         19835                 17.6   \n",
       "1848   63.1        70.3         49427                 17.4   \n",
       "1849  100.0        70.0         39763                 13.7   \n",
       "1850  100.0        70.0          9248                 17.0   \n",
       "1852   48.5        69.7         39655                 10.8   \n",
       "1854   48.0        69.5         14604                 19.2   \n",
       "1855   99.2        69.4         35565                 31.5   \n",
       "1856   37.1        69.0          2400                  7.9   \n",
       "1857   99.9        68.2         25028                 16.2   \n",
       "1858   42.0        68.1         34938                 15.3   \n",
       "1859   72.4        68.1         41868                 20.2   \n",
       "1860   62.8        67.8         24570                 14.4   \n",
       "\n",
       "      international_students female_male_ratio  year  \n",
       "1803                    0.27       [33, :, 67]  2016  \n",
       "1804                    0.34       [46, :, 54]  2016  \n",
       "1805                    0.22       [42, :, 58]  2016  \n",
       "1806                    0.34       [46, :, 54]  2016  \n",
       "1807                    0.33       [37, :, 63]  2016  \n",
       "1809                    0.27       [45, :, 55]  2016  \n",
       "1810                    0.51       [37, :, 63]  2016  \n",
       "1811                    0.37       [31, :, 69]  2016  \n",
       "1812                    0.21       [42, :, 58]  2016  \n",
       "1813                    0.23       [50, :, 50]  2016  \n",
       "1814                    0.20       [50, :, 50]  2016  \n",
       "1815                    0.15       [50, :, 50]  2016  \n",
       "1816                    0.46       [56, :, 44]  2016  \n",
       "1818                    0.15       [52, :, 48]  2016  \n",
       "1819                    0.20       [51, :, 49]  2016  \n",
       "1820                    0.19       [48, :, 52]  2016  \n",
       "1822                    0.17       [49, :, 51]  2016  \n",
       "1823                    0.16       [48, :, 52]  2016  \n",
       "1824                    0.35       [39, :, 61]  2016  \n",
       "1826                    0.36       [58, :, 42]  2016  \n",
       "1827                    0.15       [48, :, 52]  2016  \n",
       "1828                    0.34       [49, :, 51]  2016  \n",
       "1829                    0.37       [61, :, 39]  2016  \n",
       "1830                    0.22       [70, :, 30]  2016  \n",
       "1831                    0.13       [62, :, 38]  2016  \n",
       "1832                    0.19       [55, :, 45]  2016  \n",
       "1833                    0.54       [27, :, 73]  2016  \n",
       "1834                    0.13       [53, :, 47]  2016  \n",
       "1835                    0.35       [55, :, 45]  2016  \n",
       "1836                    0.25       [54, :, 46]  2016  \n",
       "1837                    0.18       [54, :, 46]  2016  \n",
       "1838                    0.20       [47, :, 53]  2016  \n",
       "1839                    0.17       [55, :, 45]  2016  \n",
       "1840                    0.23       [56, :, 44]  2016  \n",
       "1841                    0.11       [48, :, 52]  2016  \n",
       "1842                    0.11       [52, :, 48]  2016  \n",
       "1843                    0.26       [31, :, 69]  2016  \n",
       "1846                    0.13       [54, :, 46]  2016  \n",
       "1847                    0.38       [53, :, 47]  2016  \n",
       "1848                    0.09       [51, :, 49]  2016  \n",
       "1849                    0.10       [32, :, 68]  2016  \n",
       "1850                    0.21       [56, :, 44]  2016  \n",
       "1852                    0.11       [51, :, 49]  2016  \n",
       "1854                    0.35       [52, :, 48]  2016  \n",
       "1855                    0.20       [33, :, 67]  2016  \n",
       "1856                    0.20       [46, :, 54]  2016  \n",
       "1857                    0.33       [48, :, 52]  2016  \n",
       "1858                    0.34       [52, :, 48]  2016  \n",
       "1859                    0.28       [57, :, 43]  2016  \n",
       "1860                    0.11       [53, :, 47]  2016  "
      ]
     },
     "execution_count": 19,
     "metadata": {},
     "output_type": "execute_result"
    }
   ],
   "source": [
    "data2016"
   ]
  },
  {
   "cell_type": "code",
   "execution_count": 20,
   "metadata": {},
   "outputs": [
    {
     "name": "stdout",
     "output_type": "stream",
     "text": [
      "0.4925373134328358\n",
      "0.4925373134328358\n",
      "0.4925373134328358\n",
      "0.8518518518518519\n",
      "0.8518518518518519\n",
      "0.8518518518518519\n",
      "0.7241379310344828\n",
      "0.7241379310344828\n",
      "0.7241379310344828\n",
      "0.8518518518518519\n",
      "0.8518518518518519\n",
      "0.8518518518518519\n",
      "0.5873015873015873\n",
      "0.5873015873015873\n",
      "0.5873015873015873\n",
      "0.8181818181818182\n",
      "0.8181818181818182\n",
      "0.8181818181818182\n",
      "0.5873015873015873\n",
      "0.5873015873015873\n",
      "0.5873015873015873\n",
      "0.4492753623188406\n",
      "0.4492753623188406\n",
      "0.4492753623188406\n",
      "0.7241379310344828\n",
      "0.7241379310344828\n",
      "0.7241379310344828\n",
      "1.0\n",
      "1.0\n",
      "1.0\n",
      "1.0\n",
      "1.0\n",
      "1.0\n",
      "1.0\n",
      "1.0\n",
      "1.0\n",
      "1.2727272727272727\n",
      "1.2727272727272727\n",
      "1.2727272727272727\n",
      "1.0833333333333333\n",
      "1.0833333333333333\n",
      "1.0833333333333333\n",
      "1.0408163265306123\n",
      "1.0408163265306123\n",
      "1.0408163265306123\n",
      "0.9230769230769231\n",
      "0.9230769230769231\n",
      "0.9230769230769231\n",
      "0.9607843137254902\n",
      "0.9607843137254902\n",
      "0.9607843137254902\n",
      "0.9230769230769231\n",
      "0.9230769230769231\n",
      "0.9230769230769231\n",
      "0.639344262295082\n",
      "0.639344262295082\n",
      "0.639344262295082\n",
      "1.380952380952381\n",
      "1.380952380952381\n",
      "1.380952380952381\n",
      "0.9230769230769231\n",
      "0.9230769230769231\n",
      "0.9230769230769231\n",
      "0.9607843137254902\n",
      "0.9607843137254902\n",
      "0.9607843137254902\n",
      "1.564102564102564\n",
      "1.564102564102564\n",
      "1.564102564102564\n",
      "2.3333333333333335\n",
      "2.3333333333333335\n",
      "2.3333333333333335\n",
      "1.631578947368421\n",
      "1.631578947368421\n",
      "1.631578947368421\n",
      "1.2222222222222223\n",
      "1.2222222222222223\n",
      "1.2222222222222223\n",
      "0.3698630136986301\n",
      "0.3698630136986301\n",
      "0.3698630136986301\n",
      "1.127659574468085\n",
      "1.127659574468085\n",
      "1.127659574468085\n",
      "1.2222222222222223\n",
      "1.2222222222222223\n",
      "1.2222222222222223\n",
      "1.173913043478261\n",
      "1.173913043478261\n",
      "1.173913043478261\n",
      "1.173913043478261\n",
      "1.173913043478261\n",
      "1.173913043478261\n",
      "0.8867924528301887\n",
      "0.8867924528301887\n",
      "0.8867924528301887\n",
      "1.2222222222222223\n",
      "1.2222222222222223\n",
      "1.2222222222222223\n",
      "1.2727272727272727\n",
      "1.2727272727272727\n",
      "1.2727272727272727\n",
      "0.9230769230769231\n",
      "0.9230769230769231\n",
      "0.9230769230769231\n",
      "1.0833333333333333\n",
      "1.0833333333333333\n",
      "1.0833333333333333\n",
      "0.4492753623188406\n",
      "0.4492753623188406\n",
      "0.4492753623188406\n",
      "1.173913043478261\n",
      "1.173913043478261\n",
      "1.173913043478261\n",
      "1.127659574468085\n",
      "1.127659574468085\n",
      "1.127659574468085\n",
      "1.0408163265306123\n",
      "1.0408163265306123\n",
      "1.0408163265306123\n",
      "0.47058823529411764\n",
      "0.47058823529411764\n",
      "0.47058823529411764\n",
      "1.2727272727272727\n",
      "1.2727272727272727\n",
      "1.2727272727272727\n",
      "1.0408163265306123\n",
      "1.0408163265306123\n",
      "1.0408163265306123\n",
      "1.0833333333333333\n",
      "1.0833333333333333\n",
      "1.0833333333333333\n",
      "0.4925373134328358\n",
      "0.4925373134328358\n",
      "0.4925373134328358\n",
      "0.8518518518518519\n",
      "0.8518518518518519\n",
      "0.8518518518518519\n",
      "0.9230769230769231\n",
      "0.9230769230769231\n",
      "0.9230769230769231\n",
      "1.0833333333333333\n",
      "1.0833333333333333\n",
      "1.0833333333333333\n",
      "1.3255813953488371\n",
      "1.3255813953488371\n",
      "1.3255813953488371\n",
      "1.127659574468085\n",
      "1.127659574468085\n",
      "1.127659574468085\n",
      "1803    [33, :, 67]\n",
      "1804    [46, :, 54]\n",
      "1805    [42, :, 58]\n",
      "1806    [46, :, 54]\n",
      "1807    [37, :, 63]\n",
      "1809    [45, :, 55]\n",
      "1810    [37, :, 63]\n",
      "1811    [31, :, 69]\n",
      "1812    [42, :, 58]\n",
      "1813    [50, :, 50]\n",
      "1814    [50, :, 50]\n",
      "1815    [50, :, 50]\n",
      "1816    [56, :, 44]\n",
      "1818    [52, :, 48]\n",
      "1819    [51, :, 49]\n",
      "1820    [48, :, 52]\n",
      "1822    [49, :, 51]\n",
      "1823    [48, :, 52]\n",
      "1824    [39, :, 61]\n",
      "1826    [58, :, 42]\n",
      "1827    [48, :, 52]\n",
      "1828    [49, :, 51]\n",
      "1829    [61, :, 39]\n",
      "1830    [70, :, 30]\n",
      "1831    [62, :, 38]\n",
      "1832    [55, :, 45]\n",
      "1833    [27, :, 73]\n",
      "1834    [53, :, 47]\n",
      "1835    [55, :, 45]\n",
      "1836    [54, :, 46]\n",
      "1837    [54, :, 46]\n",
      "1838    [47, :, 53]\n",
      "1839    [55, :, 45]\n",
      "1840    [56, :, 44]\n",
      "1841    [48, :, 52]\n",
      "1842    [52, :, 48]\n",
      "1843    [31, :, 69]\n",
      "1846    [54, :, 46]\n",
      "1847    [53, :, 47]\n",
      "1848    [51, :, 49]\n",
      "1849    [32, :, 68]\n",
      "1850    [56, :, 44]\n",
      "1852    [51, :, 49]\n",
      "1854    [52, :, 48]\n",
      "1855    [33, :, 67]\n",
      "1856    [46, :, 54]\n",
      "1857    [48, :, 52]\n",
      "1858    [52, :, 48]\n",
      "1859    [57, :, 43]\n",
      "1860    [53, :, 47]\n",
      "Name: female_male_ratio, dtype: object\n"
     ]
    }
   ],
   "source": [
    "#data2016[\"female_male_ratio\"] = pd.to_numeric(data2016[\"female_male_ratio\"], errors='coerce')\n",
    "for each in (data2016[\"female_male_ratio\"]):\n",
    "    for i in range (len(each)):\n",
    "        print(float(each[0])/float(each[2]))\n",
    "\n",
    "print (data2016[\"female_male_ratio\"])\n"
   ]
  },
  {
   "cell_type": "code",
   "execution_count": 21,
   "metadata": {
    "scrolled": true
   },
   "outputs": [
    {
     "name": "stdout",
     "output_type": "stream",
     "text": [
      "     world_rank                                    university_name  \\\n",
      "1803          1                 California Institute of Technology   \n",
      "1804          2                               University of Oxford   \n",
      "1805          3                                Stanford University   \n",
      "1806          4                            University of Cambridge   \n",
      "1807          5              Massachusetts Institute of Technology   \n",
      "1809          7                               Princeton University   \n",
      "1810          8                            Imperial College London   \n",
      "1811          9  ETH Zurich – Swiss Federal Institute of Techno...   \n",
      "1812         10                              University of Chicago   \n",
      "1813         11                           Johns Hopkins University   \n",
      "1814         12                                    Yale University   \n",
      "1815         13                 University of California, Berkeley   \n",
      "1816         14                          University College London   \n",
      "1818         16              University of California, Los Angeles   \n",
      "1819         17                         University of Pennsylvania   \n",
      "1820         18                                 Cornell University   \n",
      "1822         20                                    Duke University   \n",
      "1823         21                             University of Michigan   \n",
      "1824         22                         Carnegie Mellon University   \n",
      "1826         24                            University of Edinburgh   \n",
      "1827         25                            Northwestern University   \n",
      "1828         26                   National University of Singapore   \n",
      "1829         27                              King’s College London   \n",
      "1830         28                               Karolinska Institute   \n",
      "1831         29                                         LMU Munich   \n",
      "1832         30                                New York University   \n",
      "1833         31           École Polytechnique Fédérale de Lausanne   \n",
      "1834         32                           University of Washington   \n",
      "1835         33                            University of Melbourne   \n",
      "1836         34                     University of British Columbia   \n",
      "1837         35                                          KU Leuven   \n",
      "1838         36         University of Illinois at Urbana-Champaign   \n",
      "1839         37                              Heidelberg University   \n",
      "1840         38                                  McGill University   \n",
      "1841        =39                University of California, San Diego   \n",
      "1842        =39            University of California, Santa Barbara   \n",
      "1843         41                    Georgia Institute of Technology   \n",
      "1846        =44                    University of California, Davis   \n",
      "1847        =44                            University of Hong Kong   \n",
      "1848         46                      University of Texas at Austin   \n",
      "1849        =47                                Tsinghua University   \n",
      "1850        =47          Wageningen University and Research Center   \n",
      "1852         50                    University of Wisconsin-Madison   \n",
      "1854         52                     Australian National University   \n",
      "1855         53                     Technical University of Munich   \n",
      "1856         54                           École Normale Supérieure   \n",
      "1857         55                   Nanyang Technological University   \n",
      "1858        =56                           University of Manchester   \n",
      "1859        =56                               University of Sydney   \n",
      "1860         58                            University of Amsterdam   \n",
      "\n",
      "                       country  teaching international  research  citations  \\\n",
      "1803  United States of America      95.6          64.0      97.6       99.8   \n",
      "1804            United Kingdom      86.5          94.4      98.9       98.8   \n",
      "1805  United States of America      92.5          76.3      96.2       99.9   \n",
      "1806            United Kingdom      88.2          91.5      96.7       97.0   \n",
      "1807  United States of America      89.4          84.0      88.6       99.7   \n",
      "1809  United States of America      85.1          78.5      91.9       99.3   \n",
      "1810            United Kingdom      83.3          96.0      88.5       96.7   \n",
      "1811               Switzerland      77.0          97.9      95.0       91.1   \n",
      "1812  United States of America      85.7          65.0      88.9       99.2   \n",
      "1813  United States of America      77.6          70.0      90.4       98.2   \n",
      "1814  United States of America      86.5          64.3      87.8       97.2   \n",
      "1815  United States of America      80.4          61.9      91.1       99.7   \n",
      "1816            United Kingdom      78.1          94.4      91.0       94.2   \n",
      "1818  United States of America      80.8          56.4      88.6       98.5   \n",
      "1819  United States of America      82.0          49.5      86.9       98.6   \n",
      "1820  United States of America      77.9          63.9      86.1       97.2   \n",
      "1822  United States of America      76.0          56.5      78.0       99.0   \n",
      "1823  United States of America      76.8          53.7      85.2       94.4   \n",
      "1824  United States of America      67.4          57.1      88.8       99.1   \n",
      "1826            United Kingdom      68.6          89.8      77.2       96.3   \n",
      "1827  United States of America      69.8          53.9      78.4       96.5   \n",
      "1828                 Singapore      71.7          96.2      84.5       79.4   \n",
      "1829            United Kingdom      64.5          93.8      75.8       93.8   \n",
      "1830                    Sweden      60.6          73.1      81.1       92.2   \n",
      "1831                   Germany      70.5          62.8      77.4       85.7   \n",
      "1832  United States of America      74.7          49.3      72.3       95.3   \n",
      "1833               Switzerland      61.3          98.6      67.5       94.6   \n",
      "1834  United States of America      67.1          51.2      70.0       98.6   \n",
      "1835                 Australia      62.0          87.1      75.5       86.6   \n",
      "1836                    Canada      60.2          90.5      73.2       91.5   \n",
      "1837                   Belgium      59.9          68.6      76.9       87.3   \n",
      "1838  United States of America      64.5          45.8      81.2       86.8   \n",
      "1839                   Germany      68.8          62.8      69.6       88.2   \n",
      "1840                    Canada      66.1          85.5      72.1       78.9   \n",
      "1841  United States of America      56.9          42.9      69.8       98.7   \n",
      "1842  United States of America      52.6          61.5      66.0       99.2   \n",
      "1843  United States of America      57.8          71.5      72.7       86.0   \n",
      "1846  United States of America      60.1          58.4      72.7       84.3   \n",
      "1847                 Hong Kong      64.6          99.5      72.8       70.1   \n",
      "1848  United States of America      59.3          31.7      69.7       92.2   \n",
      "1849                     China      73.3          39.5      83.0       58.8   \n",
      "1850               Netherlands      52.6          70.3      66.9       87.8   \n",
      "1852  United States of America      65.1          33.0      68.2       86.6   \n",
      "1854                 Australia      54.7          93.3      77.3       72.3   \n",
      "1855                   Germany      61.0          63.8      66.0       80.1   \n",
      "1856                    France      70.6          85.5      47.7       87.1   \n",
      "1857                 Singapore      48.4          94.6      61.3       85.6   \n",
      "1858            United Kingdom      58.4          87.0      66.0       77.3   \n",
      "1859                 Australia      54.3          84.4      68.1       77.5   \n",
      "1860               Netherlands      52.2          66.5      64.7       87.4   \n",
      "\n",
      "     income total_score num_students  student_staff_ratio  \\\n",
      "1803   97.8        95.2        2,243                  6.9   \n",
      "1804   73.1        94.2       19,919                 11.6   \n",
      "1805   63.3        93.9       15,596                  7.8   \n",
      "1806   55.0        92.8       18,812                 11.8   \n",
      "1807   95.4        92.0       11,074                  9.0   \n",
      "1809   52.1        90.1        7,929                  8.4   \n",
      "1810   53.7        89.1       15,060                 11.7   \n",
      "1811   80.0        88.3       18,178                 14.7   \n",
      "1812   36.6        87.9       14,221                  6.9   \n",
      "1813  100.0        87.6       15,128                  3.6   \n",
      "1814   43.3        87.4       11,751                  4.4   \n",
      "1815   47.9        87.2       36,186                 16.4   \n",
      "1816   40.5        87.1       26,607                 10.7   \n",
      "1818   47.9        85.8       38,206                 10.3   \n",
      "1819   47.9        85.2       20,376                  6.5   \n",
      "1820   33.7        84.0       21,424                 10.2   \n",
      "1822  100.0        82.7       15,172                  4.8   \n",
      "1823   56.3        82.4       41,786                  9.0   \n",
      "1824   57.5        82.3       11,885                 13.1   \n",
      "1826   36.1        80.3       25,774                 14.1   \n",
      "1827   81.2        79.5       18,334                 13.8   \n",
      "1828   49.8        79.2       31,592                 15.5   \n",
      "1829   40.1        78.2       21,394                 11.4   \n",
      "1830   75.8        77.5        7,774                 11.5   \n",
      "1831  100.0        77.3       35,691                 15.5   \n",
      "1832   30.4        77.2       42,056                  6.8   \n",
      "1833   65.4        76.1        9,666                 10.5   \n",
      "1834   43.1        75.6       44,020                 11.8   \n",
      "1835   64.6        75.4       40,128                 23.7   \n",
      "1836   42.6        75.3       50,152                 17.6   \n",
      "1837  100.0        74.8       42,503                 41.9   \n",
      "1838   52.8        74.5       42,727                 18.7   \n",
      "1839   68.2        74.4       28,881                 24.5   \n",
      "1840   40.3        72.6       31,326                 13.7   \n",
      "1841   56.7        72.2       27,233                  6.5   \n",
      "1842   90.4        72.2       22,020                 27.3   \n",
      "1843   73.7        72.1       19,967                 20.1   \n",
      "1846   57.3        71.0       35,364                 13.9   \n",
      "1847   53.7        71.0       19,835                 17.6   \n",
      "1848   63.1        70.3       49,427                 17.4   \n",
      "1849  100.0        70.0       39,763                 13.7   \n",
      "1850  100.0        70.0        9,248                 17.0   \n",
      "1852   48.5        69.7       39,655                 10.8   \n",
      "1854   48.0        69.5       14,604                 19.2   \n",
      "1855   99.2        69.4       35,565                 31.5   \n",
      "1856   37.1        69.0        2,400                  7.9   \n",
      "1857   99.9        68.2       25,028                 16.2   \n",
      "1858   42.0        68.1       34,938                 15.3   \n",
      "1859   72.4        68.1       41,868                 20.2   \n",
      "1860   62.8        67.8       24,570                 14.4   \n",
      "\n",
      "     international_students female_male_ratio  year  \n",
      "1803                    27%           33 : 67  2016  \n",
      "1804                    34%           46 : 54  2016  \n",
      "1805                    22%           42 : 58  2016  \n",
      "1806                    34%           46 : 54  2016  \n",
      "1807                    33%           37 : 63  2016  \n",
      "1809                    27%           45 : 55  2016  \n",
      "1810                    51%           37 : 63  2016  \n",
      "1811                    37%           31 : 69  2016  \n",
      "1812                    21%           42 : 58  2016  \n",
      "1813                    23%           50 : 50  2016  \n",
      "1814                    20%           50 : 50  2016  \n",
      "1815                    15%           50 : 50  2016  \n",
      "1816                    46%           56 : 44  2016  \n",
      "1818                    15%           52 : 48  2016  \n",
      "1819                    20%           51 : 49  2016  \n",
      "1820                    19%           48 : 52  2016  \n",
      "1822                    17%           49 : 51  2016  \n",
      "1823                    16%           48 : 52  2016  \n",
      "1824                    35%           39 : 61  2016  \n",
      "1826                    36%           58 : 42  2016  \n",
      "1827                    15%           48 : 52  2016  \n",
      "1828                    34%           49 : 51  2016  \n",
      "1829                    37%           61 : 39  2016  \n",
      "1830                    22%           70 : 30  2016  \n",
      "1831                    13%           62 : 38  2016  \n",
      "1832                    19%           55 : 45  2016  \n",
      "1833                    54%           27 : 73  2016  \n",
      "1834                    13%           53 : 47  2016  \n",
      "1835                    35%           55 : 45  2016  \n",
      "1836                    25%           54 : 46  2016  \n",
      "1837                    18%           54 : 46  2016  \n",
      "1838                    20%           47 : 53  2016  \n",
      "1839                    17%           55 : 45  2016  \n",
      "1840                    23%           56 : 44  2016  \n",
      "1841                    11%           48 : 52  2016  \n",
      "1842                    11%           52 : 48  2016  \n",
      "1843                    26%           31 : 69  2016  \n",
      "1846                    13%           54 : 46  2016  \n",
      "1847                    38%           53 : 47  2016  \n",
      "1848                     9%           51 : 49  2016  \n",
      "1849                    10%           32 : 68  2016  \n",
      "1850                    21%           56 : 44  2016  \n",
      "1852                    11%           51 : 49  2016  \n",
      "1854                    35%           52 : 48  2016  \n",
      "1855                    20%           33 : 67  2016  \n",
      "1856                    20%           46 : 54  2016  \n",
      "1857                    33%           48 : 52  2016  \n",
      "1858                    34%           52 : 48  2016  \n",
      "1859                    28%           57 : 43  2016  \n",
      "1860                    11%           53 : 47  2016  \n"
     ]
    }
   ],
   "source": [
    "data2016 = data[data.year==2016].iloc[:50,:]\n",
    "print(data2016)"
   ]
  },
  {
   "cell_type": "code",
   "execution_count": 22,
   "metadata": {},
   "outputs": [],
   "source": [
    "#print(data2016[\"country\"].unique())"
   ]
  },
  {
   "cell_type": "code",
   "execution_count": 23,
   "metadata": {},
   "outputs": [
    {
     "data": {
      "text/html": [
       "<div>\n",
       "<style scoped>\n",
       "    .dataframe tbody tr th:only-of-type {\n",
       "        vertical-align: middle;\n",
       "    }\n",
       "\n",
       "    .dataframe tbody tr th {\n",
       "        vertical-align: top;\n",
       "    }\n",
       "\n",
       "    .dataframe thead th {\n",
       "        text-align: right;\n",
       "    }\n",
       "</style>\n",
       "<table border=\"1\" class=\"dataframe\">\n",
       "  <thead>\n",
       "    <tr style=\"text-align: right;\">\n",
       "      <th></th>\n",
       "      <th>teaching</th>\n",
       "      <th>research</th>\n",
       "      <th>citations</th>\n",
       "      <th>student_staff_ratio</th>\n",
       "      <th>year</th>\n",
       "    </tr>\n",
       "  </thead>\n",
       "  <tbody>\n",
       "    <tr>\n",
       "      <th>count</th>\n",
       "      <td>50.000000</td>\n",
       "      <td>50.00000</td>\n",
       "      <td>50.000000</td>\n",
       "      <td>50.000000</td>\n",
       "      <td>50.0</td>\n",
       "    </tr>\n",
       "    <tr>\n",
       "      <th>mean</th>\n",
       "      <td>69.980000</td>\n",
       "      <td>78.83600</td>\n",
       "      <td>90.806000</td>\n",
       "      <td>13.956000</td>\n",
       "      <td>2016.0</td>\n",
       "    </tr>\n",
       "    <tr>\n",
       "      <th>std</th>\n",
       "      <td>11.934327</td>\n",
       "      <td>11.14408</td>\n",
       "      <td>9.133151</td>\n",
       "      <td>7.082492</td>\n",
       "      <td>0.0</td>\n",
       "    </tr>\n",
       "    <tr>\n",
       "      <th>min</th>\n",
       "      <td>48.400000</td>\n",
       "      <td>47.70000</td>\n",
       "      <td>58.800000</td>\n",
       "      <td>3.600000</td>\n",
       "      <td>2016.0</td>\n",
       "    </tr>\n",
       "    <tr>\n",
       "      <th>25%</th>\n",
       "      <td>60.300000</td>\n",
       "      <td>69.85000</td>\n",
       "      <td>86.600000</td>\n",
       "      <td>9.300000</td>\n",
       "      <td>2016.0</td>\n",
       "    </tr>\n",
       "    <tr>\n",
       "      <th>50%</th>\n",
       "      <td>68.700000</td>\n",
       "      <td>77.35000</td>\n",
       "      <td>94.000000</td>\n",
       "      <td>13.400000</td>\n",
       "      <td>2016.0</td>\n",
       "    </tr>\n",
       "    <tr>\n",
       "      <th>75%</th>\n",
       "      <td>78.050000</td>\n",
       "      <td>88.57500</td>\n",
       "      <td>98.575000</td>\n",
       "      <td>16.850000</td>\n",
       "      <td>2016.0</td>\n",
       "    </tr>\n",
       "    <tr>\n",
       "      <th>max</th>\n",
       "      <td>95.600000</td>\n",
       "      <td>98.90000</td>\n",
       "      <td>99.900000</td>\n",
       "      <td>41.900000</td>\n",
       "      <td>2016.0</td>\n",
       "    </tr>\n",
       "  </tbody>\n",
       "</table>\n",
       "</div>"
      ],
      "text/plain": [
       "        teaching  research  citations  student_staff_ratio    year\n",
       "count  50.000000  50.00000  50.000000            50.000000    50.0\n",
       "mean   69.980000  78.83600  90.806000            13.956000  2016.0\n",
       "std    11.934327  11.14408   9.133151             7.082492     0.0\n",
       "min    48.400000  47.70000  58.800000             3.600000  2016.0\n",
       "25%    60.300000  69.85000  86.600000             9.300000  2016.0\n",
       "50%    68.700000  77.35000  94.000000            13.400000  2016.0\n",
       "75%    78.050000  88.57500  98.575000            16.850000  2016.0\n",
       "max    95.600000  98.90000  99.900000            41.900000  2016.0"
      ]
     },
     "execution_count": 23,
     "metadata": {},
     "output_type": "execute_result"
    }
   ],
   "source": [
    "data2016.describe()"
   ]
  },
  {
   "cell_type": "code",
   "execution_count": 24,
   "metadata": {},
   "outputs": [
    {
     "data": {
      "image/png": "[encoded data removed]",
      "text/plain": [
       "<Figure size 1296x360 with 1 Axes>"
      ]
     },
     "metadata": {
      "needs_background": "light"
     },
     "output_type": "display_data"
    }
   ],
   "source": [
    "#numpy / pandas\n",
    "import numpy as np\n",
    "import plotly.graph_objects as go\n",
    "data2016.income = pd.to_numeric(data2016.income, errors='coerce')\n",
    "ax = data2016.groupby(['country']).income.mean().sort_values(ascending=False).plot(kind='bar', figsize = (18,5))"
   ]
  },
  {
   "cell_type": "markdown",
   "metadata": {},
   "source": [
    "# ACP"
   ]
  },
  {
   "cell_type": "code",
   "execution_count": 25,
   "metadata": {
    "scrolled": true
   },
   "outputs": [
    {
     "name": "stdout",
     "output_type": "stream",
     "text": [
      "[['1' 'California Institute of Technology' 'United States of America'\n",
      "  95.6 64.0 97.6 99.8 97.8 95.2 2243 6.9 '27%' '33 : 67' 2016]\n",
      " ['2' 'University of Oxford' 'United Kingdom' 86.5 94.4 98.9 98.8 73.1\n",
      "  94.2 19919 11.6 '34%' '46 : 54' 2016]\n",
      " ['3' 'Stanford University' 'United States of America' 92.5 76.3 96.2\n",
      "  99.9 63.3 93.9 15596 7.8 '22%' '42 : 58' 2016]\n",
      " ['4' 'University of Cambridge' 'United Kingdom' 88.2 91.5 96.7 97.0 55.0\n",
      "  92.8 18812 11.8 '34%' '46 : 54' 2016]\n",
      " ['5' 'Massachusetts Institute of Technology' 'United States of America'\n",
      "  89.4 84.0 88.6 99.7 95.4 92.0 11074 9.0 '33%' '37 : 63' 2016]\n",
      " ['7' 'Princeton University' 'United States of America' 85.1 78.5 91.9\n",
      "  99.3 52.1 90.1 7929 8.4 '27%' '45 : 55' 2016]\n",
      " ['8' 'Imperial College London' 'United Kingdom' 83.3 96.0 88.5 96.7 53.7\n",
      "  89.1 15060 11.7 '51%' '37 : 63' 2016]\n",
      " ['9' 'ETH Zurich – Swiss Federal Institute of Technology Zurich'\n",
      "  'Switzerland' 77.0 97.9 95.0 91.1 80.0 88.3 18178 14.7 '37%' '31 : 69'\n",
      "  2016]\n",
      " ['10' 'University of Chicago' 'United States of America' 85.7 65.0 88.9\n",
      "  99.2 36.6 87.9 14221 6.9 '21%' '42 : 58' 2016]\n",
      " ['11' 'Johns Hopkins University' 'United States of America' 77.6 70.0\n",
      "  90.4 98.2 100.0 87.6 15128 3.6 '23%' '50 : 50' 2016]\n",
      " ['12' 'Yale University' 'United States of America' 86.5 64.3 87.8 97.2\n",
      "  43.3 87.4 11751 4.4 '20%' '50 : 50' 2016]\n",
      " ['13' 'University of California, Berkeley' 'United States of America'\n",
      "  80.4 61.9 91.1 99.7 47.9 87.2 36186 16.4 '15%' '50 : 50' 2016]\n",
      " ['14' 'University College London' 'United Kingdom' 78.1 94.4 91.0 94.2\n",
      "  40.5 87.1 26607 10.7 '46%' '56 : 44' 2016]\n",
      " ['16' 'University of California, Los Angeles' 'United States of America'\n",
      "  80.8 56.4 88.6 98.5 47.9 85.8 38206 10.3 '15%' '52 : 48' 2016]\n",
      " ['17' 'University of Pennsylvania' 'United States of America' 82.0 49.5\n",
      "  86.9 98.6 47.9 85.2 20376 6.5 '20%' '51 : 49' 2016]\n",
      " ['18' 'Cornell University' 'United States of America' 77.9 63.9 86.1\n",
      "  97.2 33.7 84.0 21424 10.2 '19%' '48 : 52' 2016]\n",
      " ['20' 'Duke University' 'United States of America' 76.0 56.5 78.0 99.0\n",
      "  100.0 82.7 15172 4.8 '17%' '49 : 51' 2016]\n",
      " ['21' 'University of Michigan' 'United States of America' 76.8 53.7 85.2\n",
      "  94.4 56.3 82.4 41786 9.0 '16%' '48 : 52' 2016]\n",
      " ['22' 'Carnegie Mellon University' 'United States of America' 67.4 57.1\n",
      "  88.8 99.1 57.5 82.3 11885 13.1 '35%' '39 : 61' 2016]\n",
      " ['24' 'University of Edinburgh' 'United Kingdom' 68.6 89.8 77.2 96.3\n",
      "  36.1 80.3 25774 14.1 '36%' '58 : 42' 2016]\n",
      " ['25' 'Northwestern University' 'United States of America' 69.8 53.9\n",
      "  78.4 96.5 81.2 79.5 18334 13.8 '15%' '48 : 52' 2016]\n",
      " ['26' 'National University of Singapore' 'Singapore' 71.7 96.2 84.5 79.4\n",
      "  49.8 79.2 31592 15.5 '34%' '49 : 51' 2016]\n",
      " ['27' 'King’s College London' 'United Kingdom' 64.5 93.8 75.8 93.8 40.1\n",
      "  78.2 21394 11.4 '37%' '61 : 39' 2016]\n",
      " ['28' 'Karolinska Institute' 'Sweden' 60.6 73.1 81.1 92.2 75.8 77.5 7774\n",
      "  11.5 '22%' '70 : 30' 2016]\n",
      " ['29' 'LMU Munich' 'Germany' 70.5 62.8 77.4 85.7 100.0 77.3 35691 15.5\n",
      "  '13%' '62 : 38' 2016]\n",
      " ['30' 'New York University' 'United States of America' 74.7 49.3 72.3\n",
      "  95.3 30.4 77.2 42056 6.8 '19%' '55 : 45' 2016]\n",
      " ['31' 'École Polytechnique Fédérale de Lausanne' 'Switzerland' 61.3 98.6\n",
      "  67.5 94.6 65.4 76.1 9666 10.5 '54%' '27 : 73' 2016]\n",
      " ['32' 'University of Washington' 'United States of America' 67.1 51.2\n",
      "  70.0 98.6 43.1 75.6 44020 11.8 '13%' '53 : 47' 2016]\n",
      " ['33' 'University of Melbourne' 'Australia' 62.0 87.1 75.5 86.6 64.6\n",
      "  75.4 40128 23.7 '35%' '55 : 45' 2016]\n",
      " ['34' 'University of British Columbia' 'Canada' 60.2 90.5 73.2 91.5 42.6\n",
      "  75.3 50152 17.6 '25%' '54 : 46' 2016]\n",
      " ['35' 'KU Leuven' 'Belgium' 59.9 68.6 76.9 87.3 100.0 74.8 42503 41.9\n",
      "  '18%' '54 : 46' 2016]\n",
      " ['36' 'University of Illinois at Urbana-Champaign'\n",
      "  'United States of America' 64.5 45.8 81.2 86.8 52.8 74.5 42727 18.7\n",
      "  '20%' '47 : 53' 2016]\n",
      " ['37' 'Heidelberg University' 'Germany' 68.8 62.8 69.6 88.2 68.2 74.4\n",
      "  28881 24.5 '17%' '55 : 45' 2016]\n",
      " ['38' 'McGill University' 'Canada' 66.1 85.5 72.1 78.9 40.3 72.6 31326\n",
      "  13.7 '23%' '56 : 44' 2016]\n",
      " ['=39' 'University of California, San Diego' 'United States of America'\n",
      "  56.9 42.9 69.8 98.7 56.7 72.2 27233 6.5 '11%' '48 : 52' 2016]\n",
      " ['=39' 'University of California, Santa Barbara'\n",
      "  'United States of America' 52.6 61.5 66.0 99.2 90.4 72.2 22020 27.3\n",
      "  '11%' '52 : 48' 2016]\n",
      " ['41' 'Georgia Institute of Technology' 'United States of America' 57.8\n",
      "  71.5 72.7 86.0 73.7 72.1 19967 20.1 '26%' '31 : 69' 2016]\n",
      " ['=44' 'University of California, Davis' 'United States of America' 60.1\n",
      "  58.4 72.7 84.3 57.3 71.0 35364 13.9 '13%' '54 : 46' 2016]\n",
      " ['=44' 'University of Hong Kong' 'Hong Kong' 64.6 99.5 72.8 70.1 53.7\n",
      "  71.0 19835 17.6 '38%' '53 : 47' 2016]\n",
      " ['46' 'University of Texas at Austin' 'United States of America' 59.3\n",
      "  31.7 69.7 92.2 63.1 70.3 49427 17.4 '9%' '51 : 49' 2016]\n",
      " ['=47' 'Tsinghua University' 'China' 73.3 39.5 83.0 58.8 100.0 70.0\n",
      "  39763 13.7 '10%' '32 : 68' 2016]\n",
      " ['=47' 'Wageningen University and Research Center' 'Netherlands' 52.6\n",
      "  70.3 66.9 87.8 100.0 70.0 9248 17.0 '21%' '56 : 44' 2016]\n",
      " ['50' 'University of Wisconsin-Madison' 'United States of America' 65.1\n",
      "  33.0 68.2 86.6 48.5 69.7 39655 10.8 '11%' '51 : 49' 2016]\n",
      " ['52' 'Australian National University' 'Australia' 54.7 93.3 77.3 72.3\n",
      "  48.0 69.5 14604 19.2 '35%' '52 : 48' 2016]\n",
      " ['53' 'Technical University of Munich' 'Germany' 61.0 63.8 66.0 80.1\n",
      "  99.2 69.4 35565 31.5 '20%' '33 : 67' 2016]\n",
      " ['54' 'École Normale Supérieure' 'France' 70.6 85.5 47.7 87.1 37.1 69.0\n",
      "  2400 7.9 '20%' '46 : 54' 2016]\n",
      " ['55' 'Nanyang Technological University' 'Singapore' 48.4 94.6 61.3 85.6\n",
      "  99.9 68.2 25028 16.2 '33%' '48 : 52' 2016]\n",
      " ['=56' 'University of Manchester' 'United Kingdom' 58.4 87.0 66.0 77.3\n",
      "  42.0 68.1 34938 15.3 '34%' '52 : 48' 2016]\n",
      " ['=56' 'University of Sydney' 'Australia' 54.3 84.4 68.1 77.5 72.4 68.1\n",
      "  41868 20.2 '28%' '57 : 43' 2016]\n",
      " ['58' 'University of Amsterdam' 'Netherlands' 52.2 66.5 64.7 87.4 62.8\n",
      "  67.8 24570 14.4 '11%' '53 : 47' 2016]]\n"
     ]
    }
   ],
   "source": [
    "# choix du nombre de composantes à calculer\n",
    "n_comp = 7\n",
    "\n",
    "# selection des colonnes à prendre en compte dans l'ACP\n",
    "\n",
    "data2016.income = pd.to_numeric(data2016.income, errors='coerce')\n",
    "data2016.international = pd.to_numeric(data2016.international, errors='coerce')\n",
    "data2016.total_score = pd.to_numeric(data2016.total_score, errors='coerce')\n",
    "data2016.num_students  = [str(each).replace(',', '') for each in data2016.num_students]\n",
    "data2016.num_students =  pd.to_numeric(data2016.num_students, errors='coerce')\n",
    "\n",
    "X=data2016.values\n",
    "\n",
    "data2016_pca = data2016 [[\"teaching\",\"international\",\"research\",\"citations\",\"income\",\"total_score\", \"num_students\",\n",
    "                 \"student_staff_ratio\"]]\n",
    "print(X)"
   ]
  },
  {
   "cell_type": "code",
   "execution_count": 26,
   "metadata": {},
   "outputs": [],
   "source": [
    "# préparation des données pour l'ACP\n",
    "data2016_pca = data2016_pca.fillna(data2016_pca.mean()) # Il est fréquent de remplacer les valeurs inconnues par la moyenne de la variable\n",
    "X = data2016_pca.values\n",
    "names = data2016[\"university_name\"] # ou data.index pour avoir les intitulés\n",
    "features = data2016.columns"
   ]
  },
  {
   "cell_type": "code",
   "execution_count": 27,
   "metadata": {
    "scrolled": true
   },
   "outputs": [],
   "source": [
    "# Centrage et Réduction\n",
    "std_scale = preprocessing.StandardScaler().fit(X)\n",
    "X_scaled = std_scale.transform(X)"
   ]
  },
  {
   "cell_type": "code",
   "execution_count": 28,
   "metadata": {
    "scrolled": true
   },
   "outputs": [
    {
     "data": {
      "text/plain": [
       "PCA(n_components=7)"
      ]
     },
     "execution_count": 28,
     "metadata": {},
     "output_type": "execute_result"
    }
   ],
   "source": [
    "# Calcul des composantes principales\n",
    "pca = decomposition.PCA(n_components=n_comp)\n",
    "pca.fit(X_scaled)"
   ]
  },
  {
   "cell_type": "code",
   "execution_count": 29,
   "metadata": {},
   "outputs": [
    {
     "data": {
      "image/png": "[encoded data removed]",
      "text/plain": [
       "<Figure size 432x288 with 1 Axes>"
      ]
     },
     "metadata": {
      "needs_background": "light"
     },
     "output_type": "display_data"
    }
   ],
   "source": [
    "# Eboulis des valeurs propres\n",
    "display_screen_plot(pca)"
   ]
  },
  {
   "cell_type": "code",
   "execution_count": 30,
   "metadata": {
    "scrolled": true
   },
   "outputs": [
    {
     "data": {
      "image/png": "[encoded data removed]",
      "text/plain": [
       "<Figure size 504x432 with 1 Axes>"
      ]
     },
     "metadata": {
      "needs_background": "light"
     },
     "output_type": "display_data"
    },
    {
     "data": {
      "image/png": "[encoded data removed]",
      "text/plain": [
       "<Figure size 504x432 with 1 Axes>"
      ]
     },
     "metadata": {
      "needs_background": "light"
     },
     "output_type": "display_data"
    },
    {
     "data": {
      "image/png": "[encoded data removed]",
      "text/plain": [
       "<Figure size 504x432 with 1 Axes>"
      ]
     },
     "metadata": {
      "needs_background": "light"
     },
     "output_type": "display_data"
    }
   ],
   "source": [
    "# Cercle des corrélations\n",
    "pcs = pca.components_\n",
    "display_circles(pcs, n_comp, pca, [(0,1),(2,3),(4,5)], labels = np.array(features))\n",
    "\n"
   ]
  },
  {
   "cell_type": "code",
   "execution_count": 31,
   "metadata": {},
   "outputs": [
    {
     "data": {
      "image/png": "[encoded data removed]",
      "text/plain": [
       "<Figure size 504x432 with 1 Axes>"
      ]
     },
     "metadata": {
      "needs_background": "light"
     },
     "output_type": "display_data"
    },
    {
     "data": {
      "image/png": "[encoded data removed]",
      "text/plain": [
       "<Figure size 504x432 with 1 Axes>"
      ]
     },
     "metadata": {
      "needs_background": "light"
     },
     "output_type": "display_data"
    },
    {
     "data": {
      "image/png": "[encoded data removed]",
      "text/plain": [
       "<Figure size 504x432 with 1 Axes>"
      ]
     },
     "metadata": {
      "needs_background": "light"
     },
     "output_type": "display_data"
    }
   ],
   "source": [
    "# Projection des individus\n",
    "X_projected = pca.transform(X_scaled)\n",
    "display_factorial_planes(X_projected, n_comp, pca, [(0,1),(2,3),(4,5)], labels = np.array(names))\n",
    "\n",
    "plt.show()"
   ]
  },
  {
   "cell_type": "code",
   "execution_count": null,
   "metadata": {},
   "outputs": [],
   "source": []
  },
  {
   "cell_type": "markdown",
   "metadata": {},
   "source": [
    "Analyse en Composantes Principales\n",
    "\n",
    "1.Quelles ressemblances peut-il y avoir d'une université à une autre. \n",
    "2.Quelles ressemblances existent-il entre différents critères d'évaluation des universités ? \n",
    "  2.a.définir quand est-ce que 2 universités se ressemblent \n",
    "  2.b.et quand est-ce qu'elles se ressemblent du point de vue de l'ensemble des colonnes (c'est-à-dire des critères d'évaluation du Times Higher Education World University Ranking).\n",
    "\n",
    "3.Est-il possible de faire un bilan des ressemblances ? ( Vous chercherez ici à faire une typologie, une partition des universités, c'est-à-dire à construire des groupes d'universités homogènes du point de vue de l'ensemble des variables. A l'intérieur d'un groupe, les individus se ressemblent et d'un groupe à l'autre ils sont différents."
   ]
  },
  {
   "cell_type": "code",
   "execution_count": 35,
   "metadata": {},
   "outputs": [
    {
     "data": {
      "application/vnd.plotly.v1+json": {
       "config": {
        "plotlyServerURL": "https://plot.ly"
       },
       "data": [
        {
         "diagonal": {
          "visible": false
         },
         "dimensions": [
          {
           "axis": {
            "matches": true
           },
           "label": "teaching",
           "values": [
            95.6,
            86.5,
            92.5,
            88.2,
            89.4,
            85.1,
            83.3,
            77,
            85.7,
            77.6,
            86.5,
            80.4,
            78.1,
            80.8,
            82,
            77.9,
            76,
            76.8,
            67.4,
            68.6,
            69.8,
            71.7,
            64.5,
            60.6,
            70.5,
            74.7,
            61.3,
            67.1,
            62,
            60.2,
            59.9,
            64.5,
            68.8,
            66.1,
            56.9,
            52.6,
            57.8,
            60.1,
            64.6,
            59.3,
            73.3,
            52.6,
            65.1,
            54.7,
            61,
            70.6,
            48.4,
            58.4,
            54.3,
            52.2
           ]
          },
          {
           "axis": {
            "matches": true
           },
           "label": "international",
           "values": [
            64,
            94.4,
            76.3,
            91.5,
            84,
            78.5,
            96,
            97.9,
            65,
            70,
            64.3,
            61.9,
            94.4,
            56.4,
            49.5,
            63.9,
            56.5,
            53.7,
            57.1,
            89.8,
            53.9,
            96.2,
            93.8,
            73.1,
            62.8,
            49.3,
            98.6,
            51.2,
            87.1,
            90.5,
            68.6,
            45.8,
            62.8,
            85.5,
            42.9,
            61.5,
            71.5,
            58.4,
            99.5,
            31.7,
            39.5,
            70.3,
            33,
            93.3,
            63.8,
            85.5,
            94.6,
            87,
            84.4,
            66.5
           ]
          },
          {
           "axis": {
            "matches": true
           },
           "label": "research",
           "values": [
            97.6,
            98.9,
            96.2,
            96.7,
            88.6,
            91.9,
            88.5,
            95,
            88.9,
            90.4,
            87.8,
            91.1,
            91,
            88.6,
            86.9,
            86.1,
            78,
            85.2,
            88.8,
            77.2,
            78.4,
            84.5,
            75.8,
            81.1,
            77.4,
            72.3,
            67.5,
            70,
            75.5,
            73.2,
            76.9,
            81.2,
            69.6,
            72.1,
            69.8,
            66,
            72.7,
            72.7,
            72.8,
            69.7,
            83,
            66.9,
            68.2,
            77.3,
            66,
            47.7,
            61.3,
            66,
            68.1,
            64.7
           ]
          },
          {
           "axis": {
            "matches": true
           },
           "label": "citations",
           "values": [
            99.8,
            98.8,
            99.9,
            97,
            99.7,
            99.3,
            96.7,
            91.1,
            99.2,
            98.2,
            97.2,
            99.7,
            94.2,
            98.5,
            98.6,
            97.2,
            99,
            94.4,
            99.1,
            96.3,
            96.5,
            79.4,
            93.8,
            92.2,
            85.7,
            95.3,
            94.6,
            98.6,
            86.6,
            91.5,
            87.3,
            86.8,
            88.2,
            78.9,
            98.7,
            99.2,
            86,
            84.3,
            70.1,
            92.2,
            58.8,
            87.8,
            86.6,
            72.3,
            80.1,
            87.1,
            85.6,
            77.3,
            77.5,
            87.4
           ]
          },
          {
           "axis": {
            "matches": true
           },
           "label": "income",
           "values": [
            97.8,
            73.1,
            63.3,
            55,
            95.4,
            52.1,
            53.7,
            80,
            36.6,
            100,
            43.3,
            47.9,
            40.5,
            47.9,
            47.9,
            33.7,
            100,
            56.3,
            57.5,
            36.1,
            81.2,
            49.8,
            40.1,
            75.8,
            100,
            30.4,
            65.4,
            43.1,
            64.6,
            42.6,
            100,
            52.8,
            68.2,
            40.3,
            56.7,
            90.4,
            73.7,
            57.3,
            53.7,
            63.1,
            100,
            100,
            48.5,
            48,
            99.2,
            37.1,
            99.9,
            42,
            72.4,
            62.8
           ]
          },
          {
           "axis": {
            "matches": true
           },
           "label": "total_score",
           "values": [
            95.2,
            94.2,
            93.9,
            92.8,
            92,
            90.1,
            89.1,
            88.3,
            87.9,
            87.6,
            87.4,
            87.2,
            87.1,
            85.8,
            85.2,
            84,
            82.7,
            82.4,
            82.3,
            80.3,
            79.5,
            79.2,
            78.2,
            77.5,
            77.3,
            77.2,
            76.1,
            75.6,
            75.4,
            75.3,
            74.8,
            74.5,
            74.4,
            72.6,
            72.2,
            72.2,
            72.1,
            71,
            71,
            70.3,
            70,
            70,
            69.7,
            69.5,
            69.4,
            69,
            68.2,
            68.1,
            68.1,
            67.8
           ]
          },
          {
           "axis": {
            "matches": true
           },
           "label": "num_students",
           "values": [
            2243,
            19919,
            15596,
            18812,
            11074,
            7929,
            15060,
            18178,
            14221,
            15128,
            11751,
            36186,
            26607,
            38206,
            20376,
            21424,
            15172,
            41786,
            11885,
            25774,
            18334,
            31592,
            21394,
            7774,
            35691,
            42056,
            9666,
            44020,
            40128,
            50152,
            42503,
            42727,
            28881,
            31326,
            27233,
            22020,
            19967,
            35364,
            19835,
            49427,
            39763,
            9248,
            39655,
            14604,
            35565,
            2400,
            25028,
            34938,
            41868,
            24570
           ]
          },
          {
           "axis": {
            "matches": true
           },
           "label": "student_staff_ratio",
           "values": [
            6.9,
            11.6,
            7.8,
            11.8,
            9,
            8.4,
            11.7,
            14.7,
            6.9,
            3.6,
            4.4,
            16.4,
            10.7,
            10.3,
            6.5,
            10.2,
            4.8,
            9,
            13.1,
            14.1,
            13.8,
            15.5,
            11.4,
            11.5,
            15.5,
            6.8,
            10.5,
            11.8,
            23.7,
            17.6,
            41.9,
            18.7,
            24.5,
            13.7,
            6.5,
            27.3,
            20.1,
            13.9,
            17.6,
            17.4,
            13.7,
            17,
            10.8,
            19.2,
            31.5,
            7.9,
            16.2,
            15.3,
            20.2,
            14.4
           ]
          }
         ],
         "hovertemplate": "%{xaxis.title.text}=%{x}<br>%{yaxis.title.text}=%{y}<br>num_students=%{marker.color}<extra></extra>",
         "legendgroup": "",
         "marker": {
          "color": [
           2243,
           19919,
           15596,
           18812,
           11074,
           7929,
           15060,
           18178,
           14221,
           15128,
           11751,
           36186,
           26607,
           38206,
           20376,
           21424,
           15172,
           41786,
           11885,
           25774,
           18334,
           31592,
           21394,
           7774,
           35691,
           42056,
           9666,
           44020,
           40128,
           50152,
           42503,
           42727,
           28881,
           31326,
           27233,
           22020,
           19967,
           35364,
           19835,
           49427,
           39763,
           9248,
           39655,
           14604,
           35565,
           2400,
           25028,
           34938,
           41868,
           24570
          ],
          "coloraxis": "coloraxis",
          "symbol": "circle"
         },
         "name": "",
         "showlegend": false,
         "type": "splom"
        }
       ],
       "layout": {
        "coloraxis": {
         "colorbar": {
          "title": {
           "text": "num_students"
          }
         },
         "colorscale": [
          [
           0,
           "#0d0887"
          ],
          [
           0.1111111111111111,
           "#46039f"
          ],
          [
           0.2222222222222222,
           "#7201a8"
          ],
          [
           0.3333333333333333,
           "#9c179e"
          ],
          [
           0.4444444444444444,
           "#bd3786"
          ],
          [
           0.5555555555555556,
           "#d8576b"
          ],
          [
           0.6666666666666666,
           "#ed7953"
          ],
          [
           0.7777777777777778,
           "#fb9f3a"
          ],
          [
           0.8888888888888888,
           "#fdca26"
          ],
          [
           1,
           "#f0f921"
          ]
         ]
        },
        "dragmode": "select",
        "legend": {
         "tracegroupgap": 0
        },
        "margin": {
         "t": 60
        },
        "template": {
         "data": {
          "bar": [
           {
            "error_x": {
             "color": "#2a3f5f"
            },
            "error_y": {
             "color": "#2a3f5f"
            },
            "marker": {
             "line": {
              "color": "#E5ECF6",
              "width": 0.5
             }
            },
            "type": "bar"
           }
          ],
          "barpolar": [
           {
            "marker": {
             "line": {
              "color": "#E5ECF6",
              "width": 0.5
             }
            },
            "type": "barpolar"
           }
          ],
          "carpet": [
           {
            "aaxis": {
             "endlinecolor": "#2a3f5f",
             "gridcolor": "white",
             "linecolor": "white",
             "minorgridcolor": "white",
             "startlinecolor": "#2a3f5f"
            },
            "baxis": {
             "endlinecolor": "#2a3f5f",
             "gridcolor": "white",
             "linecolor": "white",
             "minorgridcolor": "white",
             "startlinecolor": "#2a3f5f"
            },
            "type": "carpet"
           }
          ],
          "choropleth": [
           {
            "colorbar": {
             "outlinewidth": 0,
             "ticks": ""
            },
            "type": "choropleth"
           }
          ],
          "contour": [
           {
            "colorbar": {
             "outlinewidth": 0,
             "ticks": ""
            },
            "colorscale": [
             [
              0,
              "#0d0887"
             ],
             [
              0.1111111111111111,
              "#46039f"
             ],
             [
              0.2222222222222222,
              "#7201a8"
             ],
             [
              0.3333333333333333,
              "#9c179e"
             ],
             [
              0.4444444444444444,
              "#bd3786"
             ],
             [
              0.5555555555555556,
              "#d8576b"
             ],
             [
              0.6666666666666666,
              "#ed7953"
             ],
             [
              0.7777777777777778,
              "#fb9f3a"
             ],
             [
              0.8888888888888888,
              "#fdca26"
             ],
             [
              1,
              "#f0f921"
             ]
            ],
            "type": "contour"
           }
          ],
          "contourcarpet": [
           {
            "colorbar": {
             "outlinewidth": 0,
             "ticks": ""
            },
            "type": "contourcarpet"
           }
          ],
          "heatmap": [
           {
            "colorbar": {
             "outlinewidth": 0,
             "ticks": ""
            },
            "colorscale": [
             [
              0,
              "#0d0887"
             ],
             [
              0.1111111111111111,
              "#46039f"
             ],
             [
              0.2222222222222222,
              "#7201a8"
             ],
             [
              0.3333333333333333,
              "#9c179e"
             ],
             [
              0.4444444444444444,
              "#bd3786"
             ],
             [
              0.5555555555555556,
              "#d8576b"
             ],
             [
              0.6666666666666666,
              "#ed7953"
             ],
             [
              0.7777777777777778,
              "#fb9f3a"
             ],
             [
              0.8888888888888888,
              "#fdca26"
             ],
             [
              1,
              "#f0f921"
             ]
            ],
            "type": "heatmap"
           }
          ],
          "heatmapgl": [
           {
            "colorbar": {
             "outlinewidth": 0,
             "ticks": ""
            },
            "colorscale": [
             [
              0,
              "#0d0887"
             ],
             [
              0.1111111111111111,
              "#46039f"
             ],
             [
              0.2222222222222222,
              "#7201a8"
             ],
             [
              0.3333333333333333,
              "#9c179e"
             ],
             [
              0.4444444444444444,
              "#bd3786"
             ],
             [
              0.5555555555555556,
              "#d8576b"
             ],
             [
              0.6666666666666666,
              "#ed7953"
             ],
             [
              0.7777777777777778,
              "#fb9f3a"
             ],
             [
              0.8888888888888888,
              "#fdca26"
             ],
             [
              1,
              "#f0f921"
             ]
            ],
            "type": "heatmapgl"
           }
          ],
          "histogram": [
           {
            "marker": {
             "colorbar": {
              "outlinewidth": 0,
              "ticks": ""
             }
            },
            "type": "histogram"
           }
          ],
          "histogram2d": [
           {
            "colorbar": {
             "outlinewidth": 0,
             "ticks": ""
            },
            "colorscale": [
             [
              0,
              "#0d0887"
             ],
             [
              0.1111111111111111,
              "#46039f"
             ],
             [
              0.2222222222222222,
              "#7201a8"
             ],
             [
              0.3333333333333333,
              "#9c179e"
             ],
             [
              0.4444444444444444,
              "#bd3786"
             ],
             [
              0.5555555555555556,
              "#d8576b"
             ],
             [
              0.6666666666666666,
              "#ed7953"
             ],
             [
              0.7777777777777778,
              "#fb9f3a"
             ],
             [
              0.8888888888888888,
              "#fdca26"
             ],
             [
              1,
              "#f0f921"
             ]
            ],
            "type": "histogram2d"
           }
          ],
          "histogram2dcontour": [
           {
            "colorbar": {
             "outlinewidth": 0,
             "ticks": ""
            },
            "colorscale": [
             [
              0,
              "#0d0887"
             ],
             [
              0.1111111111111111,
              "#46039f"
             ],
             [
              0.2222222222222222,
              "#7201a8"
             ],
             [
              0.3333333333333333,
              "#9c179e"
             ],
             [
              0.4444444444444444,
              "#bd3786"
             ],
             [
              0.5555555555555556,
              "#d8576b"
             ],
             [
              0.6666666666666666,
              "#ed7953"
             ],
             [
              0.7777777777777778,
              "#fb9f3a"
             ],
             [
              0.8888888888888888,
              "#fdca26"
             ],
             [
              1,
              "#f0f921"
             ]
            ],
            "type": "histogram2dcontour"
           }
          ],
          "mesh3d": [
           {
            "colorbar": {
             "outlinewidth": 0,
             "ticks": ""
            },
            "type": "mesh3d"
           }
          ],
          "parcoords": [
           {
            "line": {
             "colorbar": {
              "outlinewidth": 0,
              "ticks": ""
             }
            },
            "type": "parcoords"
           }
          ],
          "pie": [
           {
            "automargin": true,
            "type": "pie"
           }
          ],
          "scatter": [
           {
            "marker": {
             "colorbar": {
              "outlinewidth": 0,
              "ticks": ""
             }
            },
            "type": "scatter"
           }
          ],
          "scatter3d": [
           {
            "line": {
             "colorbar": {
              "outlinewidth": 0,
              "ticks": ""
             }
            },
            "marker": {
             "colorbar": {
              "outlinewidth": 0,
              "ticks": ""
             }
            },
            "type": "scatter3d"
           }
          ],
          "scattercarpet": [
           {
            "marker": {
             "colorbar": {
              "outlinewidth": 0,
              "ticks": ""
             }
            },
            "type": "scattercarpet"
           }
          ],
          "scattergeo": [
           {
            "marker": {
             "colorbar": {
              "outlinewidth": 0,
              "ticks": ""
             }
            },
            "type": "scattergeo"
           }
          ],
          "scattergl": [
           {
            "marker": {
             "colorbar": {
              "outlinewidth": 0,
              "ticks": ""
             }
            },
            "type": "scattergl"
           }
          ],
          "scattermapbox": [
           {
            "marker": {
             "colorbar": {
              "outlinewidth": 0,
              "ticks": ""
             }
            },
            "type": "scattermapbox"
           }
          ],
          "scatterpolar": [
           {
            "marker": {
             "colorbar": {
              "outlinewidth": 0,
              "ticks": ""
             }
            },
            "type": "scatterpolar"
           }
          ],
          "scatterpolargl": [
           {
            "marker": {
             "colorbar": {
              "outlinewidth": 0,
              "ticks": ""
             }
            },
            "type": "scatterpolargl"
           }
          ],
          "scatterternary": [
           {
            "marker": {
             "colorbar": {
              "outlinewidth": 0,
              "ticks": ""
             }
            },
            "type": "scatterternary"
           }
          ],
          "surface": [
           {
            "colorbar": {
             "outlinewidth": 0,
             "ticks": ""
            },
            "colorscale": [
             [
              0,
              "#0d0887"
             ],
             [
              0.1111111111111111,
              "#46039f"
             ],
             [
              0.2222222222222222,
              "#7201a8"
             ],
             [
              0.3333333333333333,
              "#9c179e"
             ],
             [
              0.4444444444444444,
              "#bd3786"
             ],
             [
              0.5555555555555556,
              "#d8576b"
             ],
             [
              0.6666666666666666,
              "#ed7953"
             ],
             [
              0.7777777777777778,
              "#fb9f3a"
             ],
             [
              0.8888888888888888,
              "#fdca26"
             ],
             [
              1,
              "#f0f921"
             ]
            ],
            "type": "surface"
           }
          ],
          "table": [
           {
            "cells": {
             "fill": {
              "color": "#EBF0F8"
             },
             "line": {
              "color": "white"
             }
            },
            "header": {
             "fill": {
              "color": "#C8D4E3"
             },
             "line": {
              "color": "white"
             }
            },
            "type": "table"
           }
          ]
         },
         "layout": {
          "annotationdefaults": {
           "arrowcolor": "#2a3f5f",
           "arrowhead": 0,
           "arrowwidth": 1
          },
          "coloraxis": {
           "colorbar": {
            "outlinewidth": 0,
            "ticks": ""
           }
          },
          "colorscale": {
           "diverging": [
            [
             0,
             "#8e0152"
            ],
            [
             0.1,
             "#c51b7d"
            ],
            [
             0.2,
             "#de77ae"
            ],
            [
             0.3,
             "#f1b6da"
            ],
            [
             0.4,
             "#fde0ef"
            ],
            [
             0.5,
             "#f7f7f7"
            ],
            [
             0.6,
             "#e6f5d0"
            ],
            [
             0.7,
             "#b8e186"
            ],
            [
             0.8,
             "#7fbc41"
            ],
            [
             0.9,
             "#4d9221"
            ],
            [
             1,
             "#276419"
            ]
           ],
           "sequential": [
            [
             0,
             "#0d0887"
            ],
            [
             0.1111111111111111,
             "#46039f"
            ],
            [
             0.2222222222222222,
             "#7201a8"
            ],
            [
             0.3333333333333333,
             "#9c179e"
            ],
            [
             0.4444444444444444,
             "#bd3786"
            ],
            [
             0.5555555555555556,
             "#d8576b"
            ],
            [
             0.6666666666666666,
             "#ed7953"
            ],
            [
             0.7777777777777778,
             "#fb9f3a"
            ],
            [
             0.8888888888888888,
             "#fdca26"
            ],
            [
             1,
             "#f0f921"
            ]
           ],
           "sequentialminus": [
            [
             0,
             "#0d0887"
            ],
            [
             0.1111111111111111,
             "#46039f"
            ],
            [
             0.2222222222222222,
             "#7201a8"
            ],
            [
             0.3333333333333333,
             "#9c179e"
            ],
            [
             0.4444444444444444,
             "#bd3786"
            ],
            [
             0.5555555555555556,
             "#d8576b"
            ],
            [
             0.6666666666666666,
             "#ed7953"
            ],
            [
             0.7777777777777778,
             "#fb9f3a"
            ],
            [
             0.8888888888888888,
             "#fdca26"
            ],
            [
             1,
             "#f0f921"
            ]
           ]
          },
          "colorway": [
           "#636efa",
           "#EF553B",
           "#00cc96",
           "#ab63fa",
           "#FFA15A",
           "#19d3f3",
           "#FF6692",
           "#B6E880",
           "#FF97FF",
           "#FECB52"
          ],
          "font": {
           "color": "#2a3f5f"
          },
          "geo": {
           "bgcolor": "white",
           "lakecolor": "white",
           "landcolor": "#E5ECF6",
           "showlakes": true,
           "showland": true,
           "subunitcolor": "white"
          },
          "hoverlabel": {
           "align": "left"
          },
          "hovermode": "closest",
          "mapbox": {
           "style": "light"
          },
          "paper_bgcolor": "white",
          "plot_bgcolor": "#E5ECF6",
          "polar": {
           "angularaxis": {
            "gridcolor": "white",
            "linecolor": "white",
            "ticks": ""
           },
           "bgcolor": "#E5ECF6",
           "radialaxis": {
            "gridcolor": "white",
            "linecolor": "white",
            "ticks": ""
           }
          },
          "scene": {
           "xaxis": {
            "backgroundcolor": "#E5ECF6",
            "gridcolor": "white",
            "gridwidth": 2,
            "linecolor": "white",
            "showbackground": true,
            "ticks": "",
            "zerolinecolor": "white"
           },
           "yaxis": {
            "backgroundcolor": "#E5ECF6",
            "gridcolor": "white",
            "gridwidth": 2,
            "linecolor": "white",
            "showbackground": true,
            "ticks": "",
            "zerolinecolor": "white"
           },
           "zaxis": {
            "backgroundcolor": "#E5ECF6",
            "gridcolor": "white",
            "gridwidth": 2,
            "linecolor": "white",
            "showbackground": true,
            "ticks": "",
            "zerolinecolor": "white"
           }
          },
          "shapedefaults": {
           "line": {
            "color": "#2a3f5f"
           }
          },
          "ternary": {
           "aaxis": {
            "gridcolor": "white",
            "linecolor": "white",
            "ticks": ""
           },
           "baxis": {
            "gridcolor": "white",
            "linecolor": "white",
            "ticks": ""
           },
           "bgcolor": "#E5ECF6",
           "caxis": {
            "gridcolor": "white",
            "linecolor": "white",
            "ticks": ""
           }
          },
          "title": {
           "x": 0.05
          },
          "xaxis": {
           "automargin": true,
           "gridcolor": "white",
           "linecolor": "white",
           "ticks": "",
           "title": {
            "standoff": 15
           },
           "zerolinecolor": "white",
           "zerolinewidth": 2
          },
          "yaxis": {
           "automargin": true,
           "gridcolor": "white",
           "linecolor": "white",
           "ticks": "",
           "title": {
            "standoff": 15
           },
           "zerolinecolor": "white",
           "zerolinewidth": 2
          }
         }
        }
       }
      },
      "text/html": [
       "<div>                            <div id=\"d9caeaa9-a9d9-4775-ab38-740a11bb913e\" class=\"plotly-graph-div\" style=\"height:525px; width:100%;\"></div>            <script type=\"text/javascript\">                require([\"plotly\"], function(Plotly) {                    window.PLOTLYENV=window.PLOTLYENV || {};                                    if (document.getElementById(\"d9caeaa9-a9d9-4775-ab38-740a11bb913e\")) {                    Plotly.newPlot(                        \"d9caeaa9-a9d9-4775-ab38-740a11bb913e\",                        [{\"diagonal\": {\"visible\": false}, \"dimensions\": [{\"axis\": {\"matches\": true}, \"label\": \"teaching\", \"values\": [95.6, 86.5, 92.5, 88.2, 89.4, 85.1, 83.3, 77.0, 85.7, 77.6, 86.5, 80.4, 78.1, 80.8, 82.0, 77.9, 76.0, 76.8, 67.4, 68.6, 69.8, 71.7, 64.5, 60.6, 70.5, 74.7, 61.3, 67.1, 62.0, 60.2, 59.9, 64.5, 68.8, 66.1, 56.9, 52.6, 57.8, 60.1, 64.6, 59.3, 73.3, 52.6, 65.1, 54.7, 61.0, 70.6, 48.4, 58.4, 54.3, 52.2]}, {\"axis\": {\"matches\": true}, \"label\": \"international\", \"values\": [64.0, 94.4, 76.3, 91.5, 84.0, 78.5, 96.0, 97.9, 65.0, 70.0, 64.3, 61.9, 94.4, 56.4, 49.5, 63.9, 56.5, 53.7, 57.1, 89.8, 53.9, 96.2, 93.8, 73.1, 62.8, 49.3, 98.6, 51.2, 87.1, 90.5, 68.6, 45.8, 62.8, 85.5, 42.9, 61.5, 71.5, 58.4, 99.5, 31.7, 39.5, 70.3, 33.0, 93.3, 63.8, 85.5, 94.6, 87.0, 84.4, 66.5]}, {\"axis\": {\"matches\": true}, \"label\": \"research\", \"values\": [97.6, 98.9, 96.2, 96.7, 88.6, 91.9, 88.5, 95.0, 88.9, 90.4, 87.8, 91.1, 91.0, 88.6, 86.9, 86.1, 78.0, 85.2, 88.8, 77.2, 78.4, 84.5, 75.8, 81.1, 77.4, 72.3, 67.5, 70.0, 75.5, 73.2, 76.9, 81.2, 69.6, 72.1, 69.8, 66.0, 72.7, 72.7, 72.8, 69.7, 83.0, 66.9, 68.2, 77.3, 66.0, 47.7, 61.3, 66.0, 68.1, 64.7]}, {\"axis\": {\"matches\": true}, \"label\": \"citations\", \"values\": [99.8, 98.8, 99.9, 97.0, 99.7, 99.3, 96.7, 91.1, 99.2, 98.2, 97.2, 99.7, 94.2, 98.5, 98.6, 97.2, 99.0, 94.4, 99.1, 96.3, 96.5, 79.4, 93.8, 92.2, 85.7, 95.3, 94.6, 98.6, 86.6, 91.5, 87.3, 86.8, 88.2, 78.9, 98.7, 99.2, 86.0, 84.3, 70.1, 92.2, 58.8, 87.8, 86.6, 72.3, 80.1, 87.1, 85.6, 77.3, 77.5, 87.4]}, {\"axis\": {\"matches\": true}, \"label\": \"income\", \"values\": [97.8, 73.1, 63.3, 55.0, 95.4, 52.1, 53.7, 80.0, 36.6, 100.0, 43.3, 47.9, 40.5, 47.9, 47.9, 33.7, 100.0, 56.3, 57.5, 36.1, 81.2, 49.8, 40.1, 75.8, 100.0, 30.4, 65.4, 43.1, 64.6, 42.6, 100.0, 52.8, 68.2, 40.3, 56.7, 90.4, 73.7, 57.3, 53.7, 63.1, 100.0, 100.0, 48.5, 48.0, 99.2, 37.1, 99.9, 42.0, 72.4, 62.8]}, {\"axis\": {\"matches\": true}, \"label\": \"total_score\", \"values\": [95.2, 94.2, 93.9, 92.8, 92.0, 90.1, 89.1, 88.3, 87.9, 87.6, 87.4, 87.2, 87.1, 85.8, 85.2, 84.0, 82.7, 82.4, 82.3, 80.3, 79.5, 79.2, 78.2, 77.5, 77.3, 77.2, 76.1, 75.6, 75.4, 75.3, 74.8, 74.5, 74.4, 72.6, 72.2, 72.2, 72.1, 71.0, 71.0, 70.3, 70.0, 70.0, 69.7, 69.5, 69.4, 69.0, 68.2, 68.1, 68.1, 67.8]}, {\"axis\": {\"matches\": true}, \"label\": \"num_students\", \"values\": [2243, 19919, 15596, 18812, 11074, 7929, 15060, 18178, 14221, 15128, 11751, 36186, 26607, 38206, 20376, 21424, 15172, 41786, 11885, 25774, 18334, 31592, 21394, 7774, 35691, 42056, 9666, 44020, 40128, 50152, 42503, 42727, 28881, 31326, 27233, 22020, 19967, 35364, 19835, 49427, 39763, 9248, 39655, 14604, 35565, 2400, 25028, 34938, 41868, 24570]}, {\"axis\": {\"matches\": true}, \"label\": \"student_staff_ratio\", \"values\": [6.9, 11.6, 7.8, 11.8, 9.0, 8.4, 11.7, 14.7, 6.9, 3.6, 4.4, 16.4, 10.7, 10.3, 6.5, 10.2, 4.8, 9.0, 13.1, 14.1, 13.8, 15.5, 11.4, 11.5, 15.5, 6.8, 10.5, 11.8, 23.7, 17.6, 41.9, 18.7, 24.5, 13.7, 6.5, 27.3, 20.1, 13.9, 17.6, 17.4, 13.7, 17.0, 10.8, 19.2, 31.5, 7.9, 16.2, 15.3, 20.2, 14.4]}], \"hovertemplate\": \"%{xaxis.title.text}=%{x}<br>%{yaxis.title.text}=%{y}<br>num_students=%{marker.color}<extra></extra>\", \"legendgroup\": \"\", \"marker\": {\"color\": [2243, 19919, 15596, 18812, 11074, 7929, 15060, 18178, 14221, 15128, 11751, 36186, 26607, 38206, 20376, 21424, 15172, 41786, 11885, 25774, 18334, 31592, 21394, 7774, 35691, 42056, 9666, 44020, 40128, 50152, 42503, 42727, 28881, 31326, 27233, 22020, 19967, 35364, 19835, 49427, 39763, 9248, 39655, 14604, 35565, 2400, 25028, 34938, 41868, 24570], \"coloraxis\": \"coloraxis\", \"symbol\": \"circle\"}, \"name\": \"\", \"showlegend\": false, \"type\": \"splom\"}],                        {\"coloraxis\": {\"colorbar\": {\"title\": {\"text\": \"num_students\"}}, \"colorscale\": [[0.0, \"#0d0887\"], [0.1111111111111111, \"#46039f\"], [0.2222222222222222, \"#7201a8\"], [0.3333333333333333, \"#9c179e\"], [0.4444444444444444, \"#bd3786\"], [0.5555555555555556, \"#d8576b\"], [0.6666666666666666, \"#ed7953\"], [0.7777777777777778, \"#fb9f3a\"], [0.8888888888888888, \"#fdca26\"], [1.0, \"#f0f921\"]]}, \"dragmode\": \"select\", \"legend\": {\"tracegroupgap\": 0}, \"margin\": {\"t\": 60}, \"template\": {\"data\": {\"bar\": [{\"error_x\": {\"color\": \"#2a3f5f\"}, \"error_y\": {\"color\": \"#2a3f5f\"}, \"marker\": {\"line\": {\"color\": \"#E5ECF6\", \"width\": 0.5}}, \"type\": \"bar\"}], \"barpolar\": [{\"marker\": {\"line\": {\"color\": \"#E5ECF6\", \"width\": 0.5}}, \"type\": \"barpolar\"}], \"carpet\": [{\"aaxis\": {\"endlinecolor\": \"#2a3f5f\", \"gridcolor\": \"white\", \"linecolor\": \"white\", \"minorgridcolor\": \"white\", \"startlinecolor\": \"#2a3f5f\"}, \"baxis\": {\"endlinecolor\": \"#2a3f5f\", \"gridcolor\": \"white\", \"linecolor\": \"white\", \"minorgridcolor\": \"white\", \"startlinecolor\": \"#2a3f5f\"}, \"type\": \"carpet\"}], \"choropleth\": [{\"colorbar\": {\"outlinewidth\": 0, \"ticks\": \"\"}, \"type\": \"choropleth\"}], \"contour\": [{\"colorbar\": {\"outlinewidth\": 0, \"ticks\": \"\"}, \"colorscale\": [[0.0, \"#0d0887\"], [0.1111111111111111, \"#46039f\"], [0.2222222222222222, \"#7201a8\"], [0.3333333333333333, \"#9c179e\"], [0.4444444444444444, \"#bd3786\"], [0.5555555555555556, \"#d8576b\"], [0.6666666666666666, \"#ed7953\"], [0.7777777777777778, \"#fb9f3a\"], [0.8888888888888888, \"#fdca26\"], [1.0, \"#f0f921\"]], \"type\": \"contour\"}], \"contourcarpet\": [{\"colorbar\": {\"outlinewidth\": 0, \"ticks\": \"\"}, \"type\": \"contourcarpet\"}], \"heatmap\": [{\"colorbar\": {\"outlinewidth\": 0, \"ticks\": \"\"}, \"colorscale\": [[0.0, \"#0d0887\"], [0.1111111111111111, \"#46039f\"], [0.2222222222222222, \"#7201a8\"], [0.3333333333333333, \"#9c179e\"], [0.4444444444444444, \"#bd3786\"], [0.5555555555555556, \"#d8576b\"], [0.6666666666666666, \"#ed7953\"], [0.7777777777777778, \"#fb9f3a\"], [0.8888888888888888, \"#fdca26\"], [1.0, \"#f0f921\"]], \"type\": \"heatmap\"}], \"heatmapgl\": [{\"colorbar\": {\"outlinewidth\": 0, \"ticks\": \"\"}, \"colorscale\": [[0.0, \"#0d0887\"], [0.1111111111111111, \"#46039f\"], [0.2222222222222222, \"#7201a8\"], [0.3333333333333333, \"#9c179e\"], [0.4444444444444444, \"#bd3786\"], [0.5555555555555556, \"#d8576b\"], [0.6666666666666666, \"#ed7953\"], [0.7777777777777778, \"#fb9f3a\"], [0.8888888888888888, \"#fdca26\"], [1.0, \"#f0f921\"]], \"type\": \"heatmapgl\"}], \"histogram\": [{\"marker\": {\"colorbar\": {\"outlinewidth\": 0, \"ticks\": \"\"}}, \"type\": \"histogram\"}], \"histogram2d\": [{\"colorbar\": {\"outlinewidth\": 0, \"ticks\": \"\"}, \"colorscale\": [[0.0, \"#0d0887\"], [0.1111111111111111, \"#46039f\"], [0.2222222222222222, \"#7201a8\"], [0.3333333333333333, \"#9c179e\"], [0.4444444444444444, \"#bd3786\"], [0.5555555555555556, \"#d8576b\"], [0.6666666666666666, \"#ed7953\"], [0.7777777777777778, \"#fb9f3a\"], [0.8888888888888888, \"#fdca26\"], [1.0, \"#f0f921\"]], \"type\": \"histogram2d\"}], \"histogram2dcontour\": [{\"colorbar\": {\"outlinewidth\": 0, \"ticks\": \"\"}, \"colorscale\": [[0.0, \"#0d0887\"], [0.1111111111111111, \"#46039f\"], [0.2222222222222222, \"#7201a8\"], [0.3333333333333333, \"#9c179e\"], [0.4444444444444444, \"#bd3786\"], [0.5555555555555556, \"#d8576b\"], [0.6666666666666666, \"#ed7953\"], [0.7777777777777778, \"#fb9f3a\"], [0.8888888888888888, \"#fdca26\"], [1.0, \"#f0f921\"]], \"type\": \"histogram2dcontour\"}], \"mesh3d\": [{\"colorbar\": {\"outlinewidth\": 0, \"ticks\": \"\"}, \"type\": \"mesh3d\"}], \"parcoords\": [{\"line\": {\"colorbar\": {\"outlinewidth\": 0, \"ticks\": \"\"}}, \"type\": \"parcoords\"}], \"pie\": [{\"automargin\": true, \"type\": \"pie\"}], \"scatter\": [{\"marker\": {\"colorbar\": {\"outlinewidth\": 0, \"ticks\": \"\"}}, \"type\": \"scatter\"}], \"scatter3d\": [{\"line\": {\"colorbar\": {\"outlinewidth\": 0, \"ticks\": \"\"}}, \"marker\": {\"colorbar\": {\"outlinewidth\": 0, \"ticks\": \"\"}}, \"type\": \"scatter3d\"}], \"scattercarpet\": [{\"marker\": {\"colorbar\": {\"outlinewidth\": 0, \"ticks\": \"\"}}, \"type\": \"scattercarpet\"}], \"scattergeo\": [{\"marker\": {\"colorbar\": {\"outlinewidth\": 0, \"ticks\": \"\"}}, \"type\": \"scattergeo\"}], \"scattergl\": [{\"marker\": {\"colorbar\": {\"outlinewidth\": 0, \"ticks\": \"\"}}, \"type\": \"scattergl\"}], \"scattermapbox\": [{\"marker\": {\"colorbar\": {\"outlinewidth\": 0, \"ticks\": \"\"}}, \"type\": \"scattermapbox\"}], \"scatterpolar\": [{\"marker\": {\"colorbar\": {\"outlinewidth\": 0, \"ticks\": \"\"}}, \"type\": \"scatterpolar\"}], \"scatterpolargl\": [{\"marker\": {\"colorbar\": {\"outlinewidth\": 0, \"ticks\": \"\"}}, \"type\": \"scatterpolargl\"}], \"scatterternary\": [{\"marker\": {\"colorbar\": {\"outlinewidth\": 0, \"ticks\": \"\"}}, \"type\": \"scatterternary\"}], \"surface\": [{\"colorbar\": {\"outlinewidth\": 0, \"ticks\": \"\"}, \"colorscale\": [[0.0, \"#0d0887\"], [0.1111111111111111, \"#46039f\"], [0.2222222222222222, \"#7201a8\"], [0.3333333333333333, \"#9c179e\"], [0.4444444444444444, \"#bd3786\"], [0.5555555555555556, \"#d8576b\"], [0.6666666666666666, \"#ed7953\"], [0.7777777777777778, \"#fb9f3a\"], [0.8888888888888888, \"#fdca26\"], [1.0, \"#f0f921\"]], \"type\": \"surface\"}], \"table\": [{\"cells\": {\"fill\": {\"color\": \"#EBF0F8\"}, \"line\": {\"color\": \"white\"}}, \"header\": {\"fill\": {\"color\": \"#C8D4E3\"}, \"line\": {\"color\": \"white\"}}, \"type\": \"table\"}]}, \"layout\": {\"annotationdefaults\": {\"arrowcolor\": \"#2a3f5f\", \"arrowhead\": 0, \"arrowwidth\": 1}, \"coloraxis\": {\"colorbar\": {\"outlinewidth\": 0, \"ticks\": \"\"}}, \"colorscale\": {\"diverging\": [[0, \"#8e0152\"], [0.1, \"#c51b7d\"], [0.2, \"#de77ae\"], [0.3, \"#f1b6da\"], [0.4, \"#fde0ef\"], [0.5, \"#f7f7f7\"], [0.6, \"#e6f5d0\"], [0.7, \"#b8e186\"], [0.8, \"#7fbc41\"], [0.9, \"#4d9221\"], [1, \"#276419\"]], \"sequential\": [[0.0, \"#0d0887\"], [0.1111111111111111, \"#46039f\"], [0.2222222222222222, \"#7201a8\"], [0.3333333333333333, \"#9c179e\"], [0.4444444444444444, \"#bd3786\"], [0.5555555555555556, \"#d8576b\"], [0.6666666666666666, \"#ed7953\"], [0.7777777777777778, \"#fb9f3a\"], [0.8888888888888888, \"#fdca26\"], [1.0, \"#f0f921\"]], \"sequentialminus\": [[0.0, \"#0d0887\"], [0.1111111111111111, \"#46039f\"], [0.2222222222222222, \"#7201a8\"], [0.3333333333333333, \"#9c179e\"], [0.4444444444444444, \"#bd3786\"], [0.5555555555555556, \"#d8576b\"], [0.6666666666666666, \"#ed7953\"], [0.7777777777777778, \"#fb9f3a\"], [0.8888888888888888, \"#fdca26\"], [1.0, \"#f0f921\"]]}, \"colorway\": [\"#636efa\", \"#EF553B\", \"#00cc96\", \"#ab63fa\", \"#FFA15A\", \"#19d3f3\", \"#FF6692\", \"#B6E880\", \"#FF97FF\", \"#FECB52\"], \"font\": {\"color\": \"#2a3f5f\"}, \"geo\": {\"bgcolor\": \"white\", \"lakecolor\": \"white\", \"landcolor\": \"#E5ECF6\", \"showlakes\": true, \"showland\": true, \"subunitcolor\": \"white\"}, \"hoverlabel\": {\"align\": \"left\"}, \"hovermode\": \"closest\", \"mapbox\": {\"style\": \"light\"}, \"paper_bgcolor\": \"white\", \"plot_bgcolor\": \"#E5ECF6\", \"polar\": {\"angularaxis\": {\"gridcolor\": \"white\", \"linecolor\": \"white\", \"ticks\": \"\"}, \"bgcolor\": \"#E5ECF6\", \"radialaxis\": {\"gridcolor\": \"white\", \"linecolor\": \"white\", \"ticks\": \"\"}}, \"scene\": {\"xaxis\": {\"backgroundcolor\": \"#E5ECF6\", \"gridcolor\": \"white\", \"gridwidth\": 2, \"linecolor\": \"white\", \"showbackground\": true, \"ticks\": \"\", \"zerolinecolor\": \"white\"}, \"yaxis\": {\"backgroundcolor\": \"#E5ECF6\", \"gridcolor\": \"white\", \"gridwidth\": 2, \"linecolor\": \"white\", \"showbackground\": true, \"ticks\": \"\", \"zerolinecolor\": \"white\"}, \"zaxis\": {\"backgroundcolor\": \"#E5ECF6\", \"gridcolor\": \"white\", \"gridwidth\": 2, \"linecolor\": \"white\", \"showbackground\": true, \"ticks\": \"\", \"zerolinecolor\": \"white\"}}, \"shapedefaults\": {\"line\": {\"color\": \"#2a3f5f\"}}, \"ternary\": {\"aaxis\": {\"gridcolor\": \"white\", \"linecolor\": \"white\", \"ticks\": \"\"}, \"baxis\": {\"gridcolor\": \"white\", \"linecolor\": \"white\", \"ticks\": \"\"}, \"bgcolor\": \"#E5ECF6\", \"caxis\": {\"gridcolor\": \"white\", \"linecolor\": \"white\", \"ticks\": \"\"}}, \"title\": {\"x\": 0.05}, \"xaxis\": {\"automargin\": true, \"gridcolor\": \"white\", \"linecolor\": \"white\", \"ticks\": \"\", \"title\": {\"standoff\": 15}, \"zerolinecolor\": \"white\", \"zerolinewidth\": 2}, \"yaxis\": {\"automargin\": true, \"gridcolor\": \"white\", \"linecolor\": \"white\", \"ticks\": \"\", \"title\": {\"standoff\": 15}, \"zerolinecolor\": \"white\", \"zerolinewidth\": 2}}}},                        {\"responsive\": true}                    ).then(function(){\n",
       "                            \n",
       "var gd = document.getElementById('d9caeaa9-a9d9-4775-ab38-740a11bb913e');\n",
       "var x = new MutationObserver(function (mutations, observer) {{\n",
       "        var display = window.getComputedStyle(gd).display;\n",
       "        if (!display || display === 'none') {{\n",
       "            console.log([gd, 'removed!']);\n",
       "            Plotly.purge(gd);\n",
       "            observer.disconnect();\n",
       "        }}\n",
       "}});\n",
       "\n",
       "// Listen for the removal of the full notebook cells\n",
       "var notebookContainer = gd.closest('#notebook-container');\n",
       "if (notebookContainer) {{\n",
       "    x.observe(notebookContainer, {childList: true});\n",
       "}}\n",
       "\n",
       "// Listen for the clearing of the current output cell\n",
       "var outputEl = gd.closest('.output');\n",
       "if (outputEl) {{\n",
       "    x.observe(outputEl, {childList: true});\n",
       "}}\n",
       "\n",
       "                        })                };                });            </script>        </div>"
      ]
     },
     "metadata": {},
     "output_type": "display_data"
    }
   ],
   "source": [
    "import plotly.express as px\n",
    "\n",
    "names = data2016['university_name']\n",
    "features = data2016_pca.columns\n",
    "\n",
    "fig = px.scatter_matrix(\n",
    "    data2016,\n",
    "    dimensions=features,\n",
    "    color=\"num_students\"\n",
    ")\n",
    "fig.update_traces(diagonal_visible=False)\n",
    "fig.show()"
   ]
  },
  {
   "cell_type": "code",
   "execution_count": null,
   "metadata": {},
   "outputs": [],
   "source": []
  }
 ],
 "metadata": {
  "kernelspec": {
   "display_name": "Python 3",
   "language": "python",
   "name": "python3"
  },
  "language_info": {
   "codemirror_mode": {
    "name": "ipython",
    "version": 3
   },
   "file_extension": ".py",
   "mimetype": "text/x-python",
   "name": "python",
   "nbconvert_exporter": "python",
   "pygments_lexer": "ipython3",
   "version": "3.8.5"
  }
 },
 "nbformat": 4,
 "nbformat_minor": 4
}
