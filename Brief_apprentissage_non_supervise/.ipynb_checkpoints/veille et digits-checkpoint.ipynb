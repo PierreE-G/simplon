{
 "cells": [
  {
   "cell_type": "markdown",
   "metadata": {},
   "source": [
    "L’apprentissage non supervisé (Unsupervised Learning) consiste à ne disposer que de données d’entrée (X) et pas de variables de sortie correspondantes.\n",
    "\n",
    "On l’appelle apprentissage non supervisé car, contrairement à l’apprentissage supervisé ci-dessus, il n’y a pas de réponse correcte ni d’enseignant. Les algorithmes sont laissés à leurs propres mécanismes pour découvrir et présenter la structure intéressante des données."
   ]
  },
  {
   "cell_type": "markdown",
   "metadata": {},
   "source": [
    "Non supervisé: toutes les données ne sont pas étiquetées et \n",
    "les algorithmes apprennent la structure inhérente à partir des données en entrée."
   ]
  },
  {
   "cell_type": "markdown",
   "metadata": {},
   "source": [
    "    K-means clustering\n",
    "    Dimensionality Reduction (Réduction de la dimensionnalité)\n",
    "    Neural networks / Deep Learning\n",
    "    Principal Component Analysis (Analyse des composants principaux)\n",
    "    Singular Value Decomposition (Décomposition en valeur singulière)\n",
    "    Independent Component Analysis (Analyse en composantes indépendantes)\n",
    "    Distribution models (Modèles de distribution)\n",
    "    Hierarchical clustering (Classification hiérarchique)"
   ]
  },
  {
   "cell_type": "markdown",
   "metadata": {},
   "source": [
    "Semi-supervisé: Certaines données sont étiquetées mais la plupart d’entre elles ne sont pas étiquetées \n",
    "et un mélange de techniques supervisées et non supervisées peut être utilisé."
   ]
  },
  {
   "cell_type": "markdown",
   "metadata": {},
   "source": [
    "K-Means"
   ]
  },
  {
   "cell_type": "markdown",
   "metadata": {},
   "source": [
    "clustering\n",
    "trouver des patterns dans les données. Notamment, en regroupant les choses qui se ressemblent.\n",
    "\n",
    "Le clustering non-hiérarchique (partitionnement)\n",
    "permet de regrouper en K clusters distincts les observations du data set.\n"
   ]
  },
  {
   "cell_type": "markdown",
   "metadata": {},
   "source": [
    "trouver le coude!\n",
    "C’est le nombre optimal de clusters\n",
    "(Le fait de chercher le point représentant le coude, a donné nom à cette méthode : La méthode Elbow )\n",
    "\n",
    "k-means est un algorithme itératif qui minimise la somme des distances entre chaque individu et le centroïd. \n",
    "Le choix initial des centroïdes conditionne le résultat final.\n",
    "\n",
    "Question: individu=clusters? -OK"
   ]
  },
  {
   "cell_type": "markdown",
   "metadata": {},
   "source": [
    "Algorithme K-means\n",
    "\n",
    "Entrée : \n",
    "\n",
    "    K le nombre de cluster à former\n",
    "    Le Training Set (matrice de données)\n",
    "\n",
    "DEBUT\n",
    "\n",
    "Choisir aléatoirement K points (une ligne de la matrice de données). Ces points sont les centres des clusters (nommé centroïd).\n",
    "\n",
    "                      REPETER\n",
    "\n",
    "Affecter chaque point (élément de la matrice de donnée) au groupe dont il est le plus proche au son centre\n",
    "\n",
    "Recalculer le centre de chaque cluster  et modifier le centroide\n",
    "\n",
    "                     JUSQU‘A     CONVERGENCE\n",
    "\n",
    "                               OU    (stabilisation de l’inertie totale de la population)"
   ]
  },
  {
   "cell_type": "code",
   "execution_count": 41,
   "metadata": {},
   "outputs": [
    {
     "name": "stdout",
     "output_type": "stream",
     "text": [
      "(1797, 8, 8)\n",
      "[[ 0.  0.  5. ...  0.  0.  0.]\n",
      " [ 0.  0.  0. ... 10.  0.  0.]\n",
      " [ 0.  0.  0. ... 16.  9.  0.]\n",
      " ...\n",
      " [ 0.  0.  1. ...  6.  0.  0.]\n",
      " [ 0.  0.  2. ... 12.  0.  0.]\n",
      " [ 0.  0. 10. ... 12.  1.  0.]]\n",
      "(1797, 64)\n"
     ]
    }
   ],
   "source": [
    "# Import some libraries\n",
    "\n",
    "import numpy as np\n",
    "from sklearn.datasets import load_digits\n",
    "import matplotlib.pyplot as plt \n",
    "import sklearn.cluster as cluster\n",
    "from sklearn import metrics\n",
    "from sklearn.decomposition import PCA\n",
    "\n",
    "# Import some data\n",
    "digits = load_digits()\n",
    "# Show dimensionality\n",
    "print(digits.images.shape)\n",
    "print(digits.data)\n",
    "print(digits.data.shape)"
   ]
  },
  {
   "cell_type": "code",
   "execution_count": 5,
   "metadata": {},
   "outputs": [
    {
     "data": {
      "text/plain": [
       "<Figure size 432x288 with 0 Axes>"
      ]
     },
     "metadata": {},
     "output_type": "display_data"
    },
    {
     "data": {
      "image/png": "[encoded data removed]",
      "text/plain": [
       "<Figure size 288x288 with 1 Axes>"
      ]
     },
     "metadata": {
      "needs_background": "light"
     },
     "output_type": "display_data"
    }
   ],
   "source": [
    "# Show one data\n",
    "\n",
    "plt.gray() \n",
    "plt.matshow(digits.images[1]) \n",
    "plt.show() "
   ]
  },
  {
   "cell_type": "code",
   "execution_count": 34,
   "metadata": {},
   "outputs": [
    {
     "name": "stdout",
     "output_type": "stream",
     "text": [
      "[[ 0.  0.  5. ...  0.  0.  0.]\n",
      " [ 0.  0.  0. ... 10.  0.  0.]\n",
      " [ 0.  0.  0. ... 16.  9.  0.]\n",
      " ...\n",
      " [ 0.  0.  1. ...  6.  0.  0.]\n",
      " [ 0.  0.  2. ... 12.  0.  0.]\n",
      " [ 0.  0. 10. ... 12.  1.  0.]]\n"
     ]
    }
   ],
   "source": [
    "X = digits.data\n",
    "print(X)"
   ]
  },
  {
   "cell_type": "code",
   "execution_count": 35,
   "metadata": {},
   "outputs": [
    {
     "data": {
      "text/plain": [
       "KMeans(n_clusters=10)"
      ]
     },
     "execution_count": 35,
     "metadata": {},
     "output_type": "execute_result"
    }
   ],
   "source": [
    "# On utilise 9 clusters\n",
    "kmeans = cluster.KMeans(n_clusters=10 ,init=\"k-means++\")\n",
    "kmeans.fit(X)"
   ]
  },
  {
   "cell_type": "code",
   "execution_count": 37,
   "metadata": {},
   "outputs": [
    {
     "name": "stdout",
     "output_type": "stream",
     "text": [
      "[4 3 3 ... 3 0 0]\n"
     ]
    }
   ],
   "source": [
    "pred = kmeans.predict(X)\n",
    "print(pred)"
   ]
  },
  {
   "cell_type": "markdown",
   "metadata": {},
   "source": [
    "Comment trouver la correspondance entre les digits et les numeros de cluster?\n",
    "Contrairement à une classification supervisée "
   ]
  },
  {
   "cell_type": "code",
   "execution_count": 48,
   "metadata": {},
   "outputs": [
    {
     "name": "stdout",
     "output_type": "stream",
     "text": [
      "Score ARS :  0.6689391634747186\n"
     ]
    }
   ],
   "source": [
    "ars = metrics.adjusted_rand_score(digits.target, pred)\n",
    "print('Score ARS : ',ars)"
   ]
  },
  {
   "cell_type": "code",
   "execution_count": 47,
   "metadata": {},
   "outputs": [
    {
     "name": "stdout",
     "output_type": "stream",
     "text": [
      "score AMI :  0.7439549368505836\n"
     ]
    }
   ],
   "source": [
    "ami = metrics.adjusted_mutual_info_score(digits.target, pred) ####AMI\n",
    "print('Score AMI : ',ami)"
   ]
  },
  {
   "cell_type": "code",
   "execution_count": 50,
   "metadata": {},
   "outputs": [
    {
     "name": "stdout",
     "output_type": "stream",
     "text": [
      "Score AMI :  0.7465086765104805\n"
     ]
    }
   ],
   "source": [
    "nmi = metrics.normalized_mutual_info_score(digits.target, pred) ####NMI\n",
    "print('Score AMI : ',nmi)"
   ]
  },
  {
   "cell_type": "markdown",
   "metadata": {},
   "source": [
    "### Qu'est ce que le clustering ?\n",
    "C'est une classification qui sans étiquetage de classification de départ, cherche à trouver des regroupements."
   ]
  },
  {
   "cell_type": "markdown",
   "metadata": {},
   "source": [
    "### Est ce un probleme difficile ? pourquoi ? Donnez la compléxité en temps et mémoire\n",
    "\n",
    "On ne peut pas compter le nombre d'erreurs et on ne doit pas prendre en compte la valeur réel des étiquettes...\n",
    "mais trouver des regroupements de données similaire\n"
   ]
  },
  {
   "cell_type": "markdown",
   "metadata": {},
   "source": [
    "### Quelle sont les métriques utilisés pour le clustering ?\n",
    "Rand index \n",
    "    metrics.rand_score\n",
    "    metrics.adjusted_rand_score\n",
    "    \n",
    "Mutual Information based scores NMI AMI\n",
    "    metrics.normalized_mutual_info_score\n",
    "    metrics.adjusted_mutual_info_score\n",
    "    \n",
    "Homogeneity, completeness and V-measure \n",
    "    metrics.homogeneity_score\n",
    "    metrics.completeness_score\n",
    "    metrics.v_measure_score\n",
    "    metrics.homogeneity_completeness_v_measure\n",
    "    \n",
    "Fowlkes-Mallows scores\n",
    "    metrics.fowlkes_mallows_score\n",
    "    \n",
    "Silhouette Coefficient\n",
    "    metrics.silhouette_score\n",
    "    \n",
    "Calinski-Harabasz Index\n",
    "    metrics.calinski_harabasz_score\n",
    "    \n",
    "Davies-Bouldin Index\n",
    "    davies_bouldin_score\n",
    "    \n",
    "Contingency Matrix\n",
    "    contingency_matrix\n",
    "    \n",
    "Pair Confusion Matrix\n",
    "    pair_confusion_matrix\n"
   ]
  },
  {
   "cell_type": "code",
   "execution_count": null,
   "metadata": {},
   "outputs": [],
   "source": []
  }
 ],
 "metadata": {
  "kernelspec": {
   "display_name": "Python 3",
   "language": "python",
   "name": "python3"
  },
  "language_info": {
   "codemirror_mode": {
    "name": "ipython",
    "version": 3
   },
   "file_extension": ".py",
   "mimetype": "text/x-python",
   "name": "python",
   "nbconvert_exporter": "python",
   "pygments_lexer": "ipython3",
   "version": "3.8.5"
  }
 },
 "nbformat": 4,
 "nbformat_minor": 4
}
